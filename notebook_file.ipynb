{
 "cells": [
  {
   "cell_type": "markdown",
   "metadata": {},
   "source": [
    "Olá, Luiz\n",
    "\n",
    "Meu nome é Ramon. Fico feliz em revisar seu projeto. Ao ao longo do texto farei algumas observações sobre melhorias no código e também farei comentários sobre suas percepções sobre o assunto. Estarei aberto a feedbacks e discussões sobre o tema.\n",
    "\n",
    "**Peço que mantenha e não altere os comentários que eu fizer por aqui para que possamos nos localizar posteriormente, ok?**\n",
    "\n",
    "Mais uma coisa, vamos utilizar um código de cores para você entender os meus feedbacks no seu notebook. Funciona assim:\n",
    "\n",
    "<div class=\"alert alert-block alert-success\">\n",
    "<b> Comentário do revisor: </b> <a class=\"tocSkip\"></a>\n",
    "\n",
    "Sucesso. Tudo foi feito corretamente.\n",
    "</div>\n",
    "\n",
    "<div class=\"alert alert-block alert-warning\">\n",
    "<b>Comentário do revisor: </b> <a class=\"tocSkip\"></a>\n",
    "\n",
    "Alerta não crítco, mas que pode ser corrigido para melhoria geral no seu código/análise\n",
    "</div>\n",
    "\n",
    "<div class=\"alert alert-block alert-danger\">\n",
    "\n",
    "<b>Comentário do revisor: </b> <a class=\"tocSkip\"></a>\n",
    "    \n",
    "Erro que precisa ser consertado, caso contrário seu projeto **não** será aceito.\n",
    "</div>\n",
    "\n",
    "Você pode me responder usando isso:\n",
    "<div class=\"alert alert-block alert-info\">\n",
    "<b>Resposta do Aluno.</b> <a class=\"tocSkip\"></a>\n",
    "</div>\n",
    "\n",
    "###\n",
    "\n",
    "<div class=\"alert alert-block alert-success\">\n",
    "<b>Comentário Geral do Revisor</b> <a class=\"tocSkip\"></a>\n",
    "\n",
    "Obrigado por enviar seu projeto. \n",
    "    \n",
    "Parabéns, você fez um bom trabalho.\n",
    "\n",
    "Como pontos fortes do projeto, destaco:\n",
    "- Código simples e eficiente (sem loop desnecessário)\n",
    "- Uso adequado dos recursos da lição\n",
    "- Realizou análise exploratória\n",
    "- Ajustou vários modelos inclusive avaliou OHE\n",
    "- Calibrou hiperparâmetros\n",
    "\n",
    "Deixei algumas dicas pontuais. Acho que vale a pena o desafio de escrever em inglês para treinar.\n",
    "    \n",
    "Bom trabalho. Parabéns. Desejo sucesso na jornada.\n",
    "</div>\n",
    "\n",
    "\n",
    "\n"
   ]
  },
  {
   "cell_type": "markdown",
   "metadata": {},
   "source": [
    "O serviço de vendas de carros usados Rusty Bargain está desenvolvendo um aplicativo para atrair novos clientes. Nesse aplicativo, você pode descobrir rapidamente o valor de mercado do seu carro. Você tem acesso a dados históricos: especificações técnicas, versões de acabamento e preços. Você precisa construir o modelo para determinar o valor. \n",
    "\n",
    "Rusty Bargain está interessado em:\n",
    "\n",
    "- a qualidade da predição;\n",
    "- a velocidade da predição;\n",
    "- o tempo necessário para o treinamento"
   ]
  },
  {
   "cell_type": "markdown",
   "metadata": {},
   "source": [
    "## Preparação de Dados"
   ]
  },
  {
   "cell_type": "code",
   "execution_count": 27,
   "metadata": {},
   "outputs": [],
   "source": [
    "import pandas as pd\n",
    "import numpy as np\n",
    "from sklearn.ensemble import RandomForestRegressor\n",
    "from catboost import CatBoostRegressor\n",
    "import lightgbm as lgb\n",
    "from sklearn.linear_model import LinearRegression\n",
    "from sklearn.model_selection import train_test_split, RandomizedSearchCV, GridSearchCV\n",
    "from sklearn.preprocessing import OneHotEncoder, StandardScaler\n",
    "from sklearn.metrics import mean_squared_error\n",
    "import time\n",
    "import matplotlib.pyplot as plt\n",
    "import seaborn as sns\n",
    "import re"
   ]
  },
  {
   "cell_type": "code",
   "execution_count": 2,
   "metadata": {},
   "outputs": [],
   "source": [
    "df = pd.read_csv('/datasets/car_data.csv')"
   ]
  },
  {
   "cell_type": "code",
   "execution_count": 3,
   "metadata": {},
   "outputs": [
    {
     "data": {
      "text/html": [
       "<div>\n",
       "<style scoped>\n",
       "    .dataframe tbody tr th:only-of-type {\n",
       "        vertical-align: middle;\n",
       "    }\n",
       "\n",
       "    .dataframe tbody tr th {\n",
       "        vertical-align: top;\n",
       "    }\n",
       "\n",
       "    .dataframe thead th {\n",
       "        text-align: right;\n",
       "    }\n",
       "</style>\n",
       "<table border=\"1\" class=\"dataframe\">\n",
       "  <thead>\n",
       "    <tr style=\"text-align: right;\">\n",
       "      <th></th>\n",
       "      <th>DateCrawled</th>\n",
       "      <th>Price</th>\n",
       "      <th>VehicleType</th>\n",
       "      <th>RegistrationYear</th>\n",
       "      <th>Gearbox</th>\n",
       "      <th>Power</th>\n",
       "      <th>Model</th>\n",
       "      <th>Mileage</th>\n",
       "      <th>RegistrationMonth</th>\n",
       "      <th>FuelType</th>\n",
       "      <th>Brand</th>\n",
       "      <th>NotRepaired</th>\n",
       "      <th>DateCreated</th>\n",
       "      <th>NumberOfPictures</th>\n",
       "      <th>PostalCode</th>\n",
       "      <th>LastSeen</th>\n",
       "    </tr>\n",
       "  </thead>\n",
       "  <tbody>\n",
       "    <tr>\n",
       "      <th>0</th>\n",
       "      <td>24/03/2016 11:52</td>\n",
       "      <td>480</td>\n",
       "      <td>NaN</td>\n",
       "      <td>1993</td>\n",
       "      <td>manual</td>\n",
       "      <td>0</td>\n",
       "      <td>golf</td>\n",
       "      <td>150000</td>\n",
       "      <td>0</td>\n",
       "      <td>petrol</td>\n",
       "      <td>volkswagen</td>\n",
       "      <td>NaN</td>\n",
       "      <td>24/03/2016 00:00</td>\n",
       "      <td>0</td>\n",
       "      <td>70435</td>\n",
       "      <td>07/04/2016 03:16</td>\n",
       "    </tr>\n",
       "    <tr>\n",
       "      <th>1</th>\n",
       "      <td>24/03/2016 10:58</td>\n",
       "      <td>18300</td>\n",
       "      <td>coupe</td>\n",
       "      <td>2011</td>\n",
       "      <td>manual</td>\n",
       "      <td>190</td>\n",
       "      <td>NaN</td>\n",
       "      <td>125000</td>\n",
       "      <td>5</td>\n",
       "      <td>gasoline</td>\n",
       "      <td>audi</td>\n",
       "      <td>yes</td>\n",
       "      <td>24/03/2016 00:00</td>\n",
       "      <td>0</td>\n",
       "      <td>66954</td>\n",
       "      <td>07/04/2016 01:46</td>\n",
       "    </tr>\n",
       "    <tr>\n",
       "      <th>2</th>\n",
       "      <td>14/03/2016 12:52</td>\n",
       "      <td>9800</td>\n",
       "      <td>suv</td>\n",
       "      <td>2004</td>\n",
       "      <td>auto</td>\n",
       "      <td>163</td>\n",
       "      <td>grand</td>\n",
       "      <td>125000</td>\n",
       "      <td>8</td>\n",
       "      <td>gasoline</td>\n",
       "      <td>jeep</td>\n",
       "      <td>NaN</td>\n",
       "      <td>14/03/2016 00:00</td>\n",
       "      <td>0</td>\n",
       "      <td>90480</td>\n",
       "      <td>05/04/2016 12:47</td>\n",
       "    </tr>\n",
       "    <tr>\n",
       "      <th>3</th>\n",
       "      <td>17/03/2016 16:54</td>\n",
       "      <td>1500</td>\n",
       "      <td>small</td>\n",
       "      <td>2001</td>\n",
       "      <td>manual</td>\n",
       "      <td>75</td>\n",
       "      <td>golf</td>\n",
       "      <td>150000</td>\n",
       "      <td>6</td>\n",
       "      <td>petrol</td>\n",
       "      <td>volkswagen</td>\n",
       "      <td>no</td>\n",
       "      <td>17/03/2016 00:00</td>\n",
       "      <td>0</td>\n",
       "      <td>91074</td>\n",
       "      <td>17/03/2016 17:40</td>\n",
       "    </tr>\n",
       "    <tr>\n",
       "      <th>4</th>\n",
       "      <td>31/03/2016 17:25</td>\n",
       "      <td>3600</td>\n",
       "      <td>small</td>\n",
       "      <td>2008</td>\n",
       "      <td>manual</td>\n",
       "      <td>69</td>\n",
       "      <td>fabia</td>\n",
       "      <td>90000</td>\n",
       "      <td>7</td>\n",
       "      <td>gasoline</td>\n",
       "      <td>skoda</td>\n",
       "      <td>no</td>\n",
       "      <td>31/03/2016 00:00</td>\n",
       "      <td>0</td>\n",
       "      <td>60437</td>\n",
       "      <td>06/04/2016 10:17</td>\n",
       "    </tr>\n",
       "    <tr>\n",
       "      <th>5</th>\n",
       "      <td>04/04/2016 17:36</td>\n",
       "      <td>650</td>\n",
       "      <td>sedan</td>\n",
       "      <td>1995</td>\n",
       "      <td>manual</td>\n",
       "      <td>102</td>\n",
       "      <td>3er</td>\n",
       "      <td>150000</td>\n",
       "      <td>10</td>\n",
       "      <td>petrol</td>\n",
       "      <td>bmw</td>\n",
       "      <td>yes</td>\n",
       "      <td>04/04/2016 00:00</td>\n",
       "      <td>0</td>\n",
       "      <td>33775</td>\n",
       "      <td>06/04/2016 19:17</td>\n",
       "    </tr>\n",
       "    <tr>\n",
       "      <th>6</th>\n",
       "      <td>01/04/2016 20:48</td>\n",
       "      <td>2200</td>\n",
       "      <td>convertible</td>\n",
       "      <td>2004</td>\n",
       "      <td>manual</td>\n",
       "      <td>109</td>\n",
       "      <td>2_reihe</td>\n",
       "      <td>150000</td>\n",
       "      <td>8</td>\n",
       "      <td>petrol</td>\n",
       "      <td>peugeot</td>\n",
       "      <td>no</td>\n",
       "      <td>01/04/2016 00:00</td>\n",
       "      <td>0</td>\n",
       "      <td>67112</td>\n",
       "      <td>05/04/2016 18:18</td>\n",
       "    </tr>\n",
       "    <tr>\n",
       "      <th>7</th>\n",
       "      <td>21/03/2016 18:54</td>\n",
       "      <td>0</td>\n",
       "      <td>sedan</td>\n",
       "      <td>1980</td>\n",
       "      <td>manual</td>\n",
       "      <td>50</td>\n",
       "      <td>other</td>\n",
       "      <td>40000</td>\n",
       "      <td>7</td>\n",
       "      <td>petrol</td>\n",
       "      <td>volkswagen</td>\n",
       "      <td>no</td>\n",
       "      <td>21/03/2016 00:00</td>\n",
       "      <td>0</td>\n",
       "      <td>19348</td>\n",
       "      <td>25/03/2016 16:47</td>\n",
       "    </tr>\n",
       "    <tr>\n",
       "      <th>8</th>\n",
       "      <td>04/04/2016 23:42</td>\n",
       "      <td>14500</td>\n",
       "      <td>bus</td>\n",
       "      <td>2014</td>\n",
       "      <td>manual</td>\n",
       "      <td>125</td>\n",
       "      <td>c_max</td>\n",
       "      <td>30000</td>\n",
       "      <td>8</td>\n",
       "      <td>petrol</td>\n",
       "      <td>ford</td>\n",
       "      <td>NaN</td>\n",
       "      <td>04/04/2016 00:00</td>\n",
       "      <td>0</td>\n",
       "      <td>94505</td>\n",
       "      <td>04/04/2016 23:42</td>\n",
       "    </tr>\n",
       "    <tr>\n",
       "      <th>9</th>\n",
       "      <td>17/03/2016 10:53</td>\n",
       "      <td>999</td>\n",
       "      <td>small</td>\n",
       "      <td>1998</td>\n",
       "      <td>manual</td>\n",
       "      <td>101</td>\n",
       "      <td>golf</td>\n",
       "      <td>150000</td>\n",
       "      <td>0</td>\n",
       "      <td>NaN</td>\n",
       "      <td>volkswagen</td>\n",
       "      <td>NaN</td>\n",
       "      <td>17/03/2016 00:00</td>\n",
       "      <td>0</td>\n",
       "      <td>27472</td>\n",
       "      <td>31/03/2016 17:17</td>\n",
       "    </tr>\n",
       "    <tr>\n",
       "      <th>10</th>\n",
       "      <td>26/03/2016 19:54</td>\n",
       "      <td>2000</td>\n",
       "      <td>sedan</td>\n",
       "      <td>2004</td>\n",
       "      <td>manual</td>\n",
       "      <td>105</td>\n",
       "      <td>3_reihe</td>\n",
       "      <td>150000</td>\n",
       "      <td>12</td>\n",
       "      <td>petrol</td>\n",
       "      <td>mazda</td>\n",
       "      <td>no</td>\n",
       "      <td>26/03/2016 00:00</td>\n",
       "      <td>0</td>\n",
       "      <td>96224</td>\n",
       "      <td>06/04/2016 10:45</td>\n",
       "    </tr>\n",
       "    <tr>\n",
       "      <th>11</th>\n",
       "      <td>07/04/2016 10:06</td>\n",
       "      <td>2799</td>\n",
       "      <td>wagon</td>\n",
       "      <td>2005</td>\n",
       "      <td>manual</td>\n",
       "      <td>140</td>\n",
       "      <td>passat</td>\n",
       "      <td>150000</td>\n",
       "      <td>12</td>\n",
       "      <td>gasoline</td>\n",
       "      <td>volkswagen</td>\n",
       "      <td>yes</td>\n",
       "      <td>07/04/2016 00:00</td>\n",
       "      <td>0</td>\n",
       "      <td>57290</td>\n",
       "      <td>07/04/2016 10:25</td>\n",
       "    </tr>\n",
       "    <tr>\n",
       "      <th>12</th>\n",
       "      <td>15/03/2016 22:49</td>\n",
       "      <td>999</td>\n",
       "      <td>wagon</td>\n",
       "      <td>1995</td>\n",
       "      <td>manual</td>\n",
       "      <td>115</td>\n",
       "      <td>passat</td>\n",
       "      <td>150000</td>\n",
       "      <td>11</td>\n",
       "      <td>petrol</td>\n",
       "      <td>volkswagen</td>\n",
       "      <td>NaN</td>\n",
       "      <td>15/03/2016 00:00</td>\n",
       "      <td>0</td>\n",
       "      <td>37269</td>\n",
       "      <td>01/04/2016 13:16</td>\n",
       "    </tr>\n",
       "    <tr>\n",
       "      <th>13</th>\n",
       "      <td>21/03/2016 21:37</td>\n",
       "      <td>2500</td>\n",
       "      <td>wagon</td>\n",
       "      <td>2004</td>\n",
       "      <td>manual</td>\n",
       "      <td>131</td>\n",
       "      <td>passat</td>\n",
       "      <td>150000</td>\n",
       "      <td>2</td>\n",
       "      <td>NaN</td>\n",
       "      <td>volkswagen</td>\n",
       "      <td>no</td>\n",
       "      <td>21/03/2016 00:00</td>\n",
       "      <td>0</td>\n",
       "      <td>90762</td>\n",
       "      <td>23/03/2016 02:50</td>\n",
       "    </tr>\n",
       "    <tr>\n",
       "      <th>14</th>\n",
       "      <td>21/03/2016 12:57</td>\n",
       "      <td>17999</td>\n",
       "      <td>suv</td>\n",
       "      <td>2011</td>\n",
       "      <td>manual</td>\n",
       "      <td>190</td>\n",
       "      <td>navara</td>\n",
       "      <td>70000</td>\n",
       "      <td>3</td>\n",
       "      <td>gasoline</td>\n",
       "      <td>nissan</td>\n",
       "      <td>no</td>\n",
       "      <td>21/03/2016 00:00</td>\n",
       "      <td>0</td>\n",
       "      <td>4177</td>\n",
       "      <td>06/04/2016 07:45</td>\n",
       "    </tr>\n",
       "    <tr>\n",
       "      <th>15</th>\n",
       "      <td>11/03/2016 21:39</td>\n",
       "      <td>450</td>\n",
       "      <td>small</td>\n",
       "      <td>1910</td>\n",
       "      <td>NaN</td>\n",
       "      <td>0</td>\n",
       "      <td>ka</td>\n",
       "      <td>5000</td>\n",
       "      <td>0</td>\n",
       "      <td>petrol</td>\n",
       "      <td>ford</td>\n",
       "      <td>NaN</td>\n",
       "      <td>11/03/2016 00:00</td>\n",
       "      <td>0</td>\n",
       "      <td>24148</td>\n",
       "      <td>19/03/2016 08:46</td>\n",
       "    </tr>\n",
       "    <tr>\n",
       "      <th>16</th>\n",
       "      <td>01/04/2016 12:46</td>\n",
       "      <td>300</td>\n",
       "      <td>NaN</td>\n",
       "      <td>2016</td>\n",
       "      <td>NaN</td>\n",
       "      <td>60</td>\n",
       "      <td>polo</td>\n",
       "      <td>150000</td>\n",
       "      <td>0</td>\n",
       "      <td>petrol</td>\n",
       "      <td>volkswagen</td>\n",
       "      <td>NaN</td>\n",
       "      <td>01/04/2016 00:00</td>\n",
       "      <td>0</td>\n",
       "      <td>38871</td>\n",
       "      <td>01/04/2016 12:46</td>\n",
       "    </tr>\n",
       "    <tr>\n",
       "      <th>17</th>\n",
       "      <td>20/03/2016 10:25</td>\n",
       "      <td>1750</td>\n",
       "      <td>small</td>\n",
       "      <td>2004</td>\n",
       "      <td>auto</td>\n",
       "      <td>75</td>\n",
       "      <td>twingo</td>\n",
       "      <td>150000</td>\n",
       "      <td>2</td>\n",
       "      <td>petrol</td>\n",
       "      <td>renault</td>\n",
       "      <td>no</td>\n",
       "      <td>20/03/2016 00:00</td>\n",
       "      <td>0</td>\n",
       "      <td>65599</td>\n",
       "      <td>06/04/2016 13:16</td>\n",
       "    </tr>\n",
       "    <tr>\n",
       "      <th>18</th>\n",
       "      <td>23/03/2016 15:48</td>\n",
       "      <td>7550</td>\n",
       "      <td>bus</td>\n",
       "      <td>2007</td>\n",
       "      <td>manual</td>\n",
       "      <td>136</td>\n",
       "      <td>c_max</td>\n",
       "      <td>150000</td>\n",
       "      <td>6</td>\n",
       "      <td>gasoline</td>\n",
       "      <td>ford</td>\n",
       "      <td>no</td>\n",
       "      <td>23/03/2016 00:00</td>\n",
       "      <td>0</td>\n",
       "      <td>88361</td>\n",
       "      <td>05/04/2016 18:45</td>\n",
       "    </tr>\n",
       "    <tr>\n",
       "      <th>19</th>\n",
       "      <td>01/04/2016 22:55</td>\n",
       "      <td>1850</td>\n",
       "      <td>bus</td>\n",
       "      <td>2004</td>\n",
       "      <td>manual</td>\n",
       "      <td>102</td>\n",
       "      <td>a_klasse</td>\n",
       "      <td>150000</td>\n",
       "      <td>1</td>\n",
       "      <td>petrol</td>\n",
       "      <td>mercedes_benz</td>\n",
       "      <td>no</td>\n",
       "      <td>01/04/2016 00:00</td>\n",
       "      <td>0</td>\n",
       "      <td>49565</td>\n",
       "      <td>05/04/2016 22:46</td>\n",
       "    </tr>\n",
       "  </tbody>\n",
       "</table>\n",
       "</div>"
      ],
      "text/plain": [
       "         DateCrawled  Price  VehicleType  RegistrationYear Gearbox  Power  \\\n",
       "0   24/03/2016 11:52    480          NaN              1993  manual      0   \n",
       "1   24/03/2016 10:58  18300        coupe              2011  manual    190   \n",
       "2   14/03/2016 12:52   9800          suv              2004    auto    163   \n",
       "3   17/03/2016 16:54   1500        small              2001  manual     75   \n",
       "4   31/03/2016 17:25   3600        small              2008  manual     69   \n",
       "5   04/04/2016 17:36    650        sedan              1995  manual    102   \n",
       "6   01/04/2016 20:48   2200  convertible              2004  manual    109   \n",
       "7   21/03/2016 18:54      0        sedan              1980  manual     50   \n",
       "8   04/04/2016 23:42  14500          bus              2014  manual    125   \n",
       "9   17/03/2016 10:53    999        small              1998  manual    101   \n",
       "10  26/03/2016 19:54   2000        sedan              2004  manual    105   \n",
       "11  07/04/2016 10:06   2799        wagon              2005  manual    140   \n",
       "12  15/03/2016 22:49    999        wagon              1995  manual    115   \n",
       "13  21/03/2016 21:37   2500        wagon              2004  manual    131   \n",
       "14  21/03/2016 12:57  17999          suv              2011  manual    190   \n",
       "15  11/03/2016 21:39    450        small              1910     NaN      0   \n",
       "16  01/04/2016 12:46    300          NaN              2016     NaN     60   \n",
       "17  20/03/2016 10:25   1750        small              2004    auto     75   \n",
       "18  23/03/2016 15:48   7550          bus              2007  manual    136   \n",
       "19  01/04/2016 22:55   1850          bus              2004  manual    102   \n",
       "\n",
       "       Model  Mileage  RegistrationMonth  FuelType          Brand NotRepaired  \\\n",
       "0       golf   150000                  0    petrol     volkswagen         NaN   \n",
       "1        NaN   125000                  5  gasoline           audi         yes   \n",
       "2      grand   125000                  8  gasoline           jeep         NaN   \n",
       "3       golf   150000                  6    petrol     volkswagen          no   \n",
       "4      fabia    90000                  7  gasoline          skoda          no   \n",
       "5        3er   150000                 10    petrol            bmw         yes   \n",
       "6    2_reihe   150000                  8    petrol        peugeot          no   \n",
       "7      other    40000                  7    petrol     volkswagen          no   \n",
       "8      c_max    30000                  8    petrol           ford         NaN   \n",
       "9       golf   150000                  0       NaN     volkswagen         NaN   \n",
       "10   3_reihe   150000                 12    petrol          mazda          no   \n",
       "11    passat   150000                 12  gasoline     volkswagen         yes   \n",
       "12    passat   150000                 11    petrol     volkswagen         NaN   \n",
       "13    passat   150000                  2       NaN     volkswagen          no   \n",
       "14    navara    70000                  3  gasoline         nissan          no   \n",
       "15        ka     5000                  0    petrol           ford         NaN   \n",
       "16      polo   150000                  0    petrol     volkswagen         NaN   \n",
       "17    twingo   150000                  2    petrol        renault          no   \n",
       "18     c_max   150000                  6  gasoline           ford          no   \n",
       "19  a_klasse   150000                  1    petrol  mercedes_benz          no   \n",
       "\n",
       "         DateCreated  NumberOfPictures  PostalCode          LastSeen  \n",
       "0   24/03/2016 00:00                 0       70435  07/04/2016 03:16  \n",
       "1   24/03/2016 00:00                 0       66954  07/04/2016 01:46  \n",
       "2   14/03/2016 00:00                 0       90480  05/04/2016 12:47  \n",
       "3   17/03/2016 00:00                 0       91074  17/03/2016 17:40  \n",
       "4   31/03/2016 00:00                 0       60437  06/04/2016 10:17  \n",
       "5   04/04/2016 00:00                 0       33775  06/04/2016 19:17  \n",
       "6   01/04/2016 00:00                 0       67112  05/04/2016 18:18  \n",
       "7   21/03/2016 00:00                 0       19348  25/03/2016 16:47  \n",
       "8   04/04/2016 00:00                 0       94505  04/04/2016 23:42  \n",
       "9   17/03/2016 00:00                 0       27472  31/03/2016 17:17  \n",
       "10  26/03/2016 00:00                 0       96224  06/04/2016 10:45  \n",
       "11  07/04/2016 00:00                 0       57290  07/04/2016 10:25  \n",
       "12  15/03/2016 00:00                 0       37269  01/04/2016 13:16  \n",
       "13  21/03/2016 00:00                 0       90762  23/03/2016 02:50  \n",
       "14  21/03/2016 00:00                 0        4177  06/04/2016 07:45  \n",
       "15  11/03/2016 00:00                 0       24148  19/03/2016 08:46  \n",
       "16  01/04/2016 00:00                 0       38871  01/04/2016 12:46  \n",
       "17  20/03/2016 00:00                 0       65599  06/04/2016 13:16  \n",
       "18  23/03/2016 00:00                 0       88361  05/04/2016 18:45  \n",
       "19  01/04/2016 00:00                 0       49565  05/04/2016 22:46  "
      ]
     },
     "execution_count": 3,
     "metadata": {},
     "output_type": "execute_result"
    }
   ],
   "source": [
    "df.head(20)"
   ]
  },
  {
   "cell_type": "code",
   "execution_count": 4,
   "metadata": {},
   "outputs": [
    {
     "name": "stdout",
     "output_type": "stream",
     "text": [
      "<class 'pandas.core.frame.DataFrame'>\n",
      "RangeIndex: 354369 entries, 0 to 354368\n",
      "Data columns (total 16 columns):\n",
      " #   Column             Non-Null Count   Dtype \n",
      "---  ------             --------------   ----- \n",
      " 0   DateCrawled        354369 non-null  object\n",
      " 1   Price              354369 non-null  int64 \n",
      " 2   VehicleType        316879 non-null  object\n",
      " 3   RegistrationYear   354369 non-null  int64 \n",
      " 4   Gearbox            334536 non-null  object\n",
      " 5   Power              354369 non-null  int64 \n",
      " 6   Model              334664 non-null  object\n",
      " 7   Mileage            354369 non-null  int64 \n",
      " 8   RegistrationMonth  354369 non-null  int64 \n",
      " 9   FuelType           321474 non-null  object\n",
      " 10  Brand              354369 non-null  object\n",
      " 11  NotRepaired        283215 non-null  object\n",
      " 12  DateCreated        354369 non-null  object\n",
      " 13  NumberOfPictures   354369 non-null  int64 \n",
      " 14  PostalCode         354369 non-null  int64 \n",
      " 15  LastSeen           354369 non-null  object\n",
      "dtypes: int64(7), object(9)\n",
      "memory usage: 43.3+ MB\n"
     ]
    }
   ],
   "source": [
    "df.info()"
   ]
  },
  {
   "cell_type": "code",
   "execution_count": 5,
   "metadata": {},
   "outputs": [],
   "source": [
    "df.columns = [re.sub(r'(?<!^)(?=[A-Z])', '_', col).lower() for col in df.columns]"
   ]
  },
  {
   "cell_type": "code",
   "execution_count": 6,
   "metadata": {},
   "outputs": [
    {
     "data": {
      "text/html": [
       "<div>\n",
       "<style scoped>\n",
       "    .dataframe tbody tr th:only-of-type {\n",
       "        vertical-align: middle;\n",
       "    }\n",
       "\n",
       "    .dataframe tbody tr th {\n",
       "        vertical-align: top;\n",
       "    }\n",
       "\n",
       "    .dataframe thead th {\n",
       "        text-align: right;\n",
       "    }\n",
       "</style>\n",
       "<table border=\"1\" class=\"dataframe\">\n",
       "  <thead>\n",
       "    <tr style=\"text-align: right;\">\n",
       "      <th></th>\n",
       "      <th>date_crawled</th>\n",
       "      <th>price</th>\n",
       "      <th>vehicle_type</th>\n",
       "      <th>registration_year</th>\n",
       "      <th>gearbox</th>\n",
       "      <th>power</th>\n",
       "      <th>model</th>\n",
       "      <th>mileage</th>\n",
       "      <th>registration_month</th>\n",
       "      <th>fuel_type</th>\n",
       "      <th>brand</th>\n",
       "      <th>not_repaired</th>\n",
       "      <th>date_created</th>\n",
       "      <th>number_of_pictures</th>\n",
       "      <th>postal_code</th>\n",
       "      <th>last_seen</th>\n",
       "    </tr>\n",
       "  </thead>\n",
       "  <tbody>\n",
       "    <tr>\n",
       "      <th>0</th>\n",
       "      <td>24/03/2016 11:52</td>\n",
       "      <td>480</td>\n",
       "      <td>NaN</td>\n",
       "      <td>1993</td>\n",
       "      <td>manual</td>\n",
       "      <td>0</td>\n",
       "      <td>golf</td>\n",
       "      <td>150000</td>\n",
       "      <td>0</td>\n",
       "      <td>petrol</td>\n",
       "      <td>volkswagen</td>\n",
       "      <td>NaN</td>\n",
       "      <td>24/03/2016 00:00</td>\n",
       "      <td>0</td>\n",
       "      <td>70435</td>\n",
       "      <td>07/04/2016 03:16</td>\n",
       "    </tr>\n",
       "    <tr>\n",
       "      <th>1</th>\n",
       "      <td>24/03/2016 10:58</td>\n",
       "      <td>18300</td>\n",
       "      <td>coupe</td>\n",
       "      <td>2011</td>\n",
       "      <td>manual</td>\n",
       "      <td>190</td>\n",
       "      <td>NaN</td>\n",
       "      <td>125000</td>\n",
       "      <td>5</td>\n",
       "      <td>gasoline</td>\n",
       "      <td>audi</td>\n",
       "      <td>yes</td>\n",
       "      <td>24/03/2016 00:00</td>\n",
       "      <td>0</td>\n",
       "      <td>66954</td>\n",
       "      <td>07/04/2016 01:46</td>\n",
       "    </tr>\n",
       "    <tr>\n",
       "      <th>2</th>\n",
       "      <td>14/03/2016 12:52</td>\n",
       "      <td>9800</td>\n",
       "      <td>suv</td>\n",
       "      <td>2004</td>\n",
       "      <td>auto</td>\n",
       "      <td>163</td>\n",
       "      <td>grand</td>\n",
       "      <td>125000</td>\n",
       "      <td>8</td>\n",
       "      <td>gasoline</td>\n",
       "      <td>jeep</td>\n",
       "      <td>NaN</td>\n",
       "      <td>14/03/2016 00:00</td>\n",
       "      <td>0</td>\n",
       "      <td>90480</td>\n",
       "      <td>05/04/2016 12:47</td>\n",
       "    </tr>\n",
       "    <tr>\n",
       "      <th>3</th>\n",
       "      <td>17/03/2016 16:54</td>\n",
       "      <td>1500</td>\n",
       "      <td>small</td>\n",
       "      <td>2001</td>\n",
       "      <td>manual</td>\n",
       "      <td>75</td>\n",
       "      <td>golf</td>\n",
       "      <td>150000</td>\n",
       "      <td>6</td>\n",
       "      <td>petrol</td>\n",
       "      <td>volkswagen</td>\n",
       "      <td>no</td>\n",
       "      <td>17/03/2016 00:00</td>\n",
       "      <td>0</td>\n",
       "      <td>91074</td>\n",
       "      <td>17/03/2016 17:40</td>\n",
       "    </tr>\n",
       "    <tr>\n",
       "      <th>4</th>\n",
       "      <td>31/03/2016 17:25</td>\n",
       "      <td>3600</td>\n",
       "      <td>small</td>\n",
       "      <td>2008</td>\n",
       "      <td>manual</td>\n",
       "      <td>69</td>\n",
       "      <td>fabia</td>\n",
       "      <td>90000</td>\n",
       "      <td>7</td>\n",
       "      <td>gasoline</td>\n",
       "      <td>skoda</td>\n",
       "      <td>no</td>\n",
       "      <td>31/03/2016 00:00</td>\n",
       "      <td>0</td>\n",
       "      <td>60437</td>\n",
       "      <td>06/04/2016 10:17</td>\n",
       "    </tr>\n",
       "  </tbody>\n",
       "</table>\n",
       "</div>"
      ],
      "text/plain": [
       "       date_crawled  price vehicle_type  registration_year gearbox  power  \\\n",
       "0  24/03/2016 11:52    480          NaN               1993  manual      0   \n",
       "1  24/03/2016 10:58  18300        coupe               2011  manual    190   \n",
       "2  14/03/2016 12:52   9800          suv               2004    auto    163   \n",
       "3  17/03/2016 16:54   1500        small               2001  manual     75   \n",
       "4  31/03/2016 17:25   3600        small               2008  manual     69   \n",
       "\n",
       "   model  mileage  registration_month fuel_type       brand not_repaired  \\\n",
       "0   golf   150000                   0    petrol  volkswagen          NaN   \n",
       "1    NaN   125000                   5  gasoline        audi          yes   \n",
       "2  grand   125000                   8  gasoline        jeep          NaN   \n",
       "3   golf   150000                   6    petrol  volkswagen           no   \n",
       "4  fabia    90000                   7  gasoline       skoda           no   \n",
       "\n",
       "       date_created  number_of_pictures  postal_code         last_seen  \n",
       "0  24/03/2016 00:00                   0        70435  07/04/2016 03:16  \n",
       "1  24/03/2016 00:00                   0        66954  07/04/2016 01:46  \n",
       "2  14/03/2016 00:00                   0        90480  05/04/2016 12:47  \n",
       "3  17/03/2016 00:00                   0        91074  17/03/2016 17:40  \n",
       "4  31/03/2016 00:00                   0        60437  06/04/2016 10:17  "
      ]
     },
     "execution_count": 6,
     "metadata": {},
     "output_type": "execute_result"
    }
   ],
   "source": [
    "df.head()"
   ]
  },
  {
   "cell_type": "markdown",
   "metadata": {},
   "source": [
    "Aqui, simplesmente padronizei os nomes das colunas para que fossem separados por \"_\" e deixei tudo minúsculo"
   ]
  },
  {
   "cell_type": "markdown",
   "metadata": {},
   "source": [
    "### Excluindo Colunas e Lidando com valores Ausentes\n",
    "\n",
    "O nosso dataframe tem algumas colunas com valores ausentes, precisamos lidar com todos eles, mas antes, vamos passar um pente na tabela e definir quais colunas não são importantes para as predições dos modelos. Assim, logo de cara excluiremos as colunas: DateCrawled, DateCreated, PostalCode e LastSeen, porque elas são informações operacionais do serviço e não oferecem informações úteis para nosso modelo. Além disso, vamos dar uma olhada mais de perto em NumberOfPictures e RegistrationMonth."
   ]
  },
  {
   "cell_type": "markdown",
   "metadata": {},
   "source": [
    "#### Verficiando os valores de NumberofPictures"
   ]
  },
  {
   "cell_type": "code",
   "execution_count": 7,
   "metadata": {},
   "outputs": [
    {
     "data": {
      "text/plain": [
       "True"
      ]
     },
     "execution_count": 7,
     "metadata": {},
     "output_type": "execute_result"
    }
   ],
   "source": [
    "(df['number_of_pictures'] == 0).all()"
   ]
  },
  {
   "cell_type": "markdown",
   "metadata": {},
   "source": [
    "<div class=\"alert alert-block alert-success\">\n",
    "<b> Comentário do revisor: </b> <a class=\"tocSkip\"></a>\n",
    "\n",
    "Outra forma de fazer é usar value_counts() ou unique()\n",
    "</div>"
   ]
  },
  {
   "cell_type": "markdown",
   "metadata": {},
   "source": [
    "Quando olhei a descrição dos dados, em um primeiro momento, achei a coluna desnecessária, mas depois, pensei que é interesante que, quanto maior o valor do produto, maior seja o núkmero de fotos, por isso ia mantê-la. Mas agora percebemos que essa tabela só possui o valor 0. Não há informação relevante e, por isso, ela será excluída."
   ]
  },
  {
   "cell_type": "markdown",
   "metadata": {},
   "source": [
    "#### testando a Importãncia de registration_month"
   ]
  },
  {
   "cell_type": "code",
   "execution_count": 8,
   "metadata": {},
   "outputs": [
    {
     "data": {
      "text/html": [
       "<div>\n",
       "<style scoped>\n",
       "    .dataframe tbody tr th:only-of-type {\n",
       "        vertical-align: middle;\n",
       "    }\n",
       "\n",
       "    .dataframe tbody tr th {\n",
       "        vertical-align: top;\n",
       "    }\n",
       "\n",
       "    .dataframe thead th {\n",
       "        text-align: right;\n",
       "    }\n",
       "</style>\n",
       "<table border=\"1\" class=\"dataframe\">\n",
       "  <thead>\n",
       "    <tr style=\"text-align: right;\">\n",
       "      <th></th>\n",
       "      <th>registration_month</th>\n",
       "      <th>price</th>\n",
       "    </tr>\n",
       "  </thead>\n",
       "  <tbody>\n",
       "    <tr>\n",
       "      <th>registration_month</th>\n",
       "      <td>1.000000</td>\n",
       "      <td>0.110581</td>\n",
       "    </tr>\n",
       "    <tr>\n",
       "      <th>price</th>\n",
       "      <td>0.110581</td>\n",
       "      <td>1.000000</td>\n",
       "    </tr>\n",
       "  </tbody>\n",
       "</table>\n",
       "</div>"
      ],
      "text/plain": [
       "                    registration_month     price\n",
       "registration_month            1.000000  0.110581\n",
       "price                         0.110581  1.000000"
      ]
     },
     "execution_count": 8,
     "metadata": {},
     "output_type": "execute_result"
    }
   ],
   "source": [
    "df[['registration_month', 'price']].corr()"
   ]
  },
  {
   "cell_type": "markdown",
   "metadata": {},
   "source": [
    "O ano de registro de um carro pode ser relevante. Já o seu mês? Nem tanto... Essa correlação fraca nos mostra que a coluna também pode ser ignorada. Vamos remov~e-la também. "
   ]
  },
  {
   "cell_type": "code",
   "execution_count": 9,
   "metadata": {},
   "outputs": [],
   "source": [
    "columns_to_drop = [\n",
    "    \"number_of_pictures\",\n",
    "    \"date_crawled\",\n",
    "    \"date_created\",\n",
    "    \"postal_code\",\n",
    "    \"last_seen\",\n",
    "    \"registration_month\"\n",
    "]\n",
    "\n",
    "df.drop(columns=columns_to_drop, inplace=True)"
   ]
  },
  {
   "cell_type": "code",
   "execution_count": 10,
   "metadata": {},
   "outputs": [
    {
     "data": {
      "text/html": [
       "<div>\n",
       "<style scoped>\n",
       "    .dataframe tbody tr th:only-of-type {\n",
       "        vertical-align: middle;\n",
       "    }\n",
       "\n",
       "    .dataframe tbody tr th {\n",
       "        vertical-align: top;\n",
       "    }\n",
       "\n",
       "    .dataframe thead th {\n",
       "        text-align: right;\n",
       "    }\n",
       "</style>\n",
       "<table border=\"1\" class=\"dataframe\">\n",
       "  <thead>\n",
       "    <tr style=\"text-align: right;\">\n",
       "      <th></th>\n",
       "      <th>price</th>\n",
       "      <th>vehicle_type</th>\n",
       "      <th>registration_year</th>\n",
       "      <th>gearbox</th>\n",
       "      <th>power</th>\n",
       "      <th>model</th>\n",
       "      <th>mileage</th>\n",
       "      <th>fuel_type</th>\n",
       "      <th>brand</th>\n",
       "      <th>not_repaired</th>\n",
       "    </tr>\n",
       "  </thead>\n",
       "  <tbody>\n",
       "    <tr>\n",
       "      <th>0</th>\n",
       "      <td>480</td>\n",
       "      <td>NaN</td>\n",
       "      <td>1993</td>\n",
       "      <td>manual</td>\n",
       "      <td>0</td>\n",
       "      <td>golf</td>\n",
       "      <td>150000</td>\n",
       "      <td>petrol</td>\n",
       "      <td>volkswagen</td>\n",
       "      <td>NaN</td>\n",
       "    </tr>\n",
       "    <tr>\n",
       "      <th>1</th>\n",
       "      <td>18300</td>\n",
       "      <td>coupe</td>\n",
       "      <td>2011</td>\n",
       "      <td>manual</td>\n",
       "      <td>190</td>\n",
       "      <td>NaN</td>\n",
       "      <td>125000</td>\n",
       "      <td>gasoline</td>\n",
       "      <td>audi</td>\n",
       "      <td>yes</td>\n",
       "    </tr>\n",
       "    <tr>\n",
       "      <th>2</th>\n",
       "      <td>9800</td>\n",
       "      <td>suv</td>\n",
       "      <td>2004</td>\n",
       "      <td>auto</td>\n",
       "      <td>163</td>\n",
       "      <td>grand</td>\n",
       "      <td>125000</td>\n",
       "      <td>gasoline</td>\n",
       "      <td>jeep</td>\n",
       "      <td>NaN</td>\n",
       "    </tr>\n",
       "    <tr>\n",
       "      <th>3</th>\n",
       "      <td>1500</td>\n",
       "      <td>small</td>\n",
       "      <td>2001</td>\n",
       "      <td>manual</td>\n",
       "      <td>75</td>\n",
       "      <td>golf</td>\n",
       "      <td>150000</td>\n",
       "      <td>petrol</td>\n",
       "      <td>volkswagen</td>\n",
       "      <td>no</td>\n",
       "    </tr>\n",
       "    <tr>\n",
       "      <th>4</th>\n",
       "      <td>3600</td>\n",
       "      <td>small</td>\n",
       "      <td>2008</td>\n",
       "      <td>manual</td>\n",
       "      <td>69</td>\n",
       "      <td>fabia</td>\n",
       "      <td>90000</td>\n",
       "      <td>gasoline</td>\n",
       "      <td>skoda</td>\n",
       "      <td>no</td>\n",
       "    </tr>\n",
       "  </tbody>\n",
       "</table>\n",
       "</div>"
      ],
      "text/plain": [
       "   price vehicle_type  registration_year gearbox  power  model  mileage  \\\n",
       "0    480          NaN               1993  manual      0   golf   150000   \n",
       "1  18300        coupe               2011  manual    190    NaN   125000   \n",
       "2   9800          suv               2004    auto    163  grand   125000   \n",
       "3   1500        small               2001  manual     75   golf   150000   \n",
       "4   3600        small               2008  manual     69  fabia    90000   \n",
       "\n",
       "  fuel_type       brand not_repaired  \n",
       "0    petrol  volkswagen          NaN  \n",
       "1  gasoline        audi          yes  \n",
       "2  gasoline        jeep          NaN  \n",
       "3    petrol  volkswagen           no  \n",
       "4  gasoline       skoda           no  "
      ]
     },
     "execution_count": 10,
     "metadata": {},
     "output_type": "execute_result"
    }
   ],
   "source": [
    "df.head()"
   ]
  },
  {
   "cell_type": "code",
   "execution_count": 11,
   "metadata": {},
   "outputs": [
    {
     "name": "stdout",
     "output_type": "stream",
     "text": [
      "<class 'pandas.core.frame.DataFrame'>\n",
      "RangeIndex: 354369 entries, 0 to 354368\n",
      "Data columns (total 10 columns):\n",
      " #   Column             Non-Null Count   Dtype \n",
      "---  ------             --------------   ----- \n",
      " 0   price              354369 non-null  int64 \n",
      " 1   vehicle_type       316879 non-null  object\n",
      " 2   registration_year  354369 non-null  int64 \n",
      " 3   gearbox            334536 non-null  object\n",
      " 4   power              354369 non-null  int64 \n",
      " 5   model              334664 non-null  object\n",
      " 6   mileage            354369 non-null  int64 \n",
      " 7   fuel_type          321474 non-null  object\n",
      " 8   brand              354369 non-null  object\n",
      " 9   not_repaired       283215 non-null  object\n",
      "dtypes: int64(4), object(6)\n",
      "memory usage: 27.0+ MB\n"
     ]
    }
   ],
   "source": [
    "df.info()"
   ]
  },
  {
   "cell_type": "markdown",
   "metadata": {},
   "source": [
    "### Voltando aos Valores Ausentes das Colunas Remanescentes"
   ]
  },
  {
   "cell_type": "code",
   "execution_count": 12,
   "metadata": {},
   "outputs": [],
   "source": [
    "cols_to_fill = ['vehicle_type', 'gearbox', 'model', 'fuel_type', 'not_repaired']\n",
    "\n",
    "for col in cols_to_fill:\n",
    "    df[col].fillna('desconhecido', inplace=True)"
   ]
  },
  {
   "cell_type": "markdown",
   "metadata": {},
   "source": [
    "<div class=\"alert alert-block alert-warning\">\n",
    "<b> Comentário do revisor: </b> <a class=\"tocSkip\"></a>\n",
    "\n",
    "'not_repaired' tende a ser booleano. Convém avaliar a porcentagem de casos ausentes e decidir se mantém com imputação mais adequada (substituir pela moda) ou se descartamos a coluna\n",
    "</div>"
   ]
  },
  {
   "cell_type": "markdown",
   "metadata": {},
   "source": [
    "Para todas as outras colunas, preferi preencher os valores ausentes como desconhecido. Se retirássemos as linhas, perderíamos muita informação para nossos modelos. Adicionar moda também é ruim, porque preencheríamos diversas variáveis de forma errada, trazendo muito viés para os nossos modelos. Nossa abordagem preserva os dados sem impactar negativamente no trabalho dos algoritmos."
   ]
  },
  {
   "cell_type": "markdown",
   "metadata": {},
   "source": [
    "### Limpando Dados Absurdos"
   ]
  },
  {
   "cell_type": "markdown",
   "metadata": {},
   "source": [
    "#### Registration_year"
   ]
  },
  {
   "cell_type": "code",
   "execution_count": 13,
   "metadata": {},
   "outputs": [
    {
     "data": {
      "image/png": "[encoded data removed]",
      "text/plain": [
       "<Figure size 1000x500 with 1 Axes>"
      ]
     },
     "metadata": {},
     "output_type": "display_data"
    }
   ],
   "source": [
    "bins = np.arange(1950, 2031, 10)  # De 1950 a 2030, com intervalo de 10 anos\n",
    "\n",
    "plt.figure(figsize=(10,5))\n",
    "plt.hist(df['registration_year'], bins=bins, edgecolor='black')\n",
    "\n",
    "plt.xticks(bins)\n",
    "\n",
    "plt.xlabel(\"Década de Registro\")\n",
    "plt.ylabel(\"Número de Carros\")\n",
    "plt.title(\"Distribuição dos Anos de Registro por Década\")\n",
    "plt.grid(axis='y', linestyle='--', alpha=0.7)\n",
    "\n",
    "plt.show()\n"
   ]
  },
  {
   "cell_type": "markdown",
   "metadata": {},
   "source": [
    "Essa coluna contém alguns valores absurdos que precisamos eliminar. Para decidirmos o que fazer, criei o gráfico que nos indica o volume de carros registrado em cada década. baseado no que ele apresenta, decidi que um bom filtro de valores aceitáveis vai de 1960 até 2025, ano em que estamos agora."
   ]
  },
  {
   "cell_type": "code",
   "execution_count": 14,
   "metadata": {},
   "outputs": [
    {
     "name": "stdout",
     "output_type": "stream",
     "text": [
      "Linhas fora do intervalo 1960-2025: 527\n"
     ]
    }
   ],
   "source": [
    "out_of_range = df[(df['registration_year'] < 1960) | (df['registration_year'] > 2025)].shape[0]\n",
    "\n",
    "print(f\"Linhas fora do intervalo 1960-2025: {out_of_range}\")"
   ]
  },
  {
   "cell_type": "markdown",
   "metadata": {},
   "source": [
    "<div class=\"alert alert-block alert-warning\">\n",
    "<b> Comentário do revisor: </b> <a class=\"tocSkip\"></a>\n",
    "\n",
    "Usar o IQR ou z-score é uma técnica mais adequada para identificar outlier, pois análise visual é subjetivo\n",
    "</div>"
   ]
  },
  {
   "cell_type": "markdown",
   "metadata": {},
   "source": [
    "Aqui, temos 527 linhas. Esse é um valor muito pequeno. Foi bom não termos removido nenhuma linha até agora, porque, agora, temos mais liberdade de fazer isso. Melhor do que adicionar qualquer viés e retirar fora esses valores absurdos. "
   ]
  },
  {
   "cell_type": "code",
   "execution_count": 15,
   "metadata": {},
   "outputs": [],
   "source": [
    "df = df[(df['registration_year'] >= 1960) & (df['registration_year'] <= 2025)]"
   ]
  },
  {
   "cell_type": "markdown",
   "metadata": {},
   "source": [
    "#### power"
   ]
  },
  {
   "cell_type": "code",
   "execution_count": 16,
   "metadata": {},
   "outputs": [
    {
     "name": "stdout",
     "output_type": "stream",
     "text": [
      "Quantidade de carros com potência 0: 39903\n",
      "Quantidade de carros com potência acima de 600 HP: 370\n"
     ]
    }
   ],
   "source": [
    "zero_power_count = df[df['power'] == 0].shape[0]\n",
    "\n",
    "high_power_count = df[df['power'] > 600].shape[0]\n",
    "\n",
    "print(f\"Quantidade de carros com potência 0: {zero_power_count}\")\n",
    "print(f\"Quantidade de carros com potência acima de 600 HP: {high_power_count}\")"
   ]
  },
  {
   "cell_type": "markdown",
   "metadata": {},
   "source": [
    "Nenhum carro tem 0 de potência. Temos que trabalhar esse valor, mas não podemos excluir, porque quase 40 mil linhas seria uma perda muito impactante no dataset. Aqui será necessário algum viés, mas vamos calcular as medianas dos modelos e usálas para preencher os valores 0. Na falta de um modelo, usaremos a mediana da marca. O limite de potncia máximo de 600 também foi uma boa escolha. Poucos carros estão acima. Esses outliers serão excluídos."
   ]
  },
  {
   "cell_type": "code",
   "execution_count": 17,
   "metadata": {},
   "outputs": [],
   "source": [
    "model_median_power = df[df['power'] > 0].groupby('model')['power'].median()\n",
    "\n",
    "brand_median_power = df[df['power'] > 0].groupby('brand')['power'].median()\n",
    "\n",
    "def fill_power(row):\n",
    "    if row['power'] == 0:\n",
    "        if row['model'] in model_median_power:\n",
    "            return model_median_power[row['model']]\n",
    "        elif row['brand'] in brand_median_power:\n",
    "            return brand_median_power[row['brand']]\n",
    "    return row['power']\n",
    "\n",
    "df['power'] = df.apply(fill_power, axis=1)"
   ]
  },
  {
   "cell_type": "code",
   "execution_count": 18,
   "metadata": {},
   "outputs": [
    {
     "name": "stdout",
     "output_type": "stream",
     "text": [
      "Quantidade de carros com potência 0 após a substituição: 0\n"
     ]
    }
   ],
   "source": [
    "zero_power_count = (df['power'] == 0).sum()\n",
    "\n",
    "print(f\"Quantidade de carros com potência 0 após a substituição: {zero_power_count}\")"
   ]
  },
  {
   "cell_type": "code",
   "execution_count": 19,
   "metadata": {},
   "outputs": [
    {
     "name": "stdout",
     "output_type": "stream",
     "text": [
      "Maior potência no dataset após a remoção: 600.0\n"
     ]
    }
   ],
   "source": [
    "df = df[df['power'] <= 600]\n",
    "\n",
    "print(f\"Maior potência no dataset após a remoção: {df['power'].max()}\")"
   ]
  },
  {
   "cell_type": "markdown",
   "metadata": {},
   "source": [
    "#### Price"
   ]
  },
  {
   "cell_type": "code",
   "execution_count": 20,
   "metadata": {},
   "outputs": [
    {
     "name": "stdout",
     "output_type": "stream",
     "text": [
      "Quantidade de carros com price == 0: 10650\n"
     ]
    }
   ],
   "source": [
    "zero_price_count = df[df['price'] == 0].shape[0]\n",
    "print(f\"Quantidade de carros com price == 0: {zero_price_count}\")"
   ]
  },
  {
   "cell_type": "markdown",
   "metadata": {},
   "source": [
    "Mais de 10 mil linhas estão com preços zerados. Ninguém cria um anúncio para dar o carro de graça dessa forma. Esses valores representam cerca de 3% do dataset. "
   ]
  },
  {
   "cell_type": "code",
   "execution_count": 21,
   "metadata": {},
   "outputs": [
    {
     "name": "stdout",
     "output_type": "stream",
     "text": [
      "0.900    11450.0\n",
      "0.950    14600.0\n",
      "0.990    18800.0\n",
      "0.999    19999.0\n",
      "Name: price, dtype: float64\n"
     ]
    }
   ],
   "source": [
    "price_percentiles = df['price'].quantile([0.90, 0.95, 0.99, 0.999])\n",
    "\n",
    "print(price_percentiles)"
   ]
  },
  {
   "cell_type": "code",
   "execution_count": 22,
   "metadata": {},
   "outputs": [
    {
     "data": {
      "image/png": "[encoded data removed]",
      "text/plain": [
       "<Figure size 1000x500 with 1 Axes>"
      ]
     },
     "metadata": {},
     "output_type": "display_data"
    }
   ],
   "source": [
    "plt.figure(figsize=(10,5))\n",
    "sns.boxplot(x=df['price'])\n",
    "\n",
    "plt.xlabel(\"Preço (Euros)\")\n",
    "plt.title(\"Boxplot dos Preços dos Carros\")\n",
    "plt.grid(axis='x', linestyle='--', alpha=0.7)\n",
    "\n",
    "plt.show()"
   ]
  },
  {
   "cell_type": "markdown",
   "metadata": {},
   "source": [
    "Aqui confirmamos um boxplot para verificar a exist~encia de outliers. Mas esses valores destoam um pouco da maioria dos preços, mas não estão fora de contexto. Carros usados nessa faixa podem existir sem problemas. tratá-los além disso me parece adicionar um viés desnecessário aos dados. Vamos apenas remover as linhas zeradas, entendendo que ninguém daria o carro de graça e que esses valores são, muito provavelmente erros ou anúncios incompletos."
   ]
  },
  {
   "cell_type": "code",
   "execution_count": 23,
   "metadata": {},
   "outputs": [],
   "source": [
    "df = df[df['price'] > 0]"
   ]
  },
  {
   "cell_type": "markdown",
   "metadata": {},
   "source": [
    "## Treinamento do modelo"
   ]
  },
  {
   "cell_type": "markdown",
   "metadata": {},
   "source": [
    "Finalmente podemos começar essa etapa do trabalho. Para essa etapa, treinaremos uma Floresta Aleatória, uma Regressão Linear, um XGboost e um CatBoost. Nossos próximos passos são dividir o dataset em conjunto de treinamento e teste, usar o OHE para o XGBoost e aplicar a escalabilidade, que usaremos por padrão."
   ]
  },
  {
   "cell_type": "code",
   "execution_count": 24,
   "metadata": {},
   "outputs": [],
   "source": [
    "X = df.drop(columns=['price'])\n",
    "y = df['price']\n",
    "\n",
    "X_train, X_test, y_train, y_test = train_test_split(X, y, test_size=0.2, random_state=12345)"
   ]
  },
  {
   "cell_type": "code",
   "execution_count": 25,
   "metadata": {},
   "outputs": [],
   "source": [
    "categorical_cols = ['vehicle_type', 'gearbox', 'model', 'fuel_type', 'brand', 'not_repaired']\n",
    "numerical_cols = ['registration_year', 'power', 'mileage']\n",
    "\n",
    "X_train_ohe = pd.get_dummies(X_train, columns=categorical_cols, drop_first=True)\n",
    "\n",
    "X_test_ohe = pd.get_dummies(X_test, columns=categorical_cols, drop_first=True)\n",
    "X_test_ohe = X_test_ohe.reindex(columns=X_train_ohe.columns, fill_value=0)"
   ]
  },
  {
   "cell_type": "code",
   "execution_count": 26,
   "metadata": {},
   "outputs": [
    {
     "name": "stdout",
     "output_type": "stream",
     "text": [
      "X_train shape: (274257, 310)\n",
      "X_test shape: (68565, 310)\n",
      "y_train shape: (274257,)\n",
      "y_test shape: (68565,)\n"
     ]
    }
   ],
   "source": [
    "scaler = StandardScaler()\n",
    "X_train_ohe[numerical_cols] = scaler.fit_transform(X_train_ohe[numerical_cols])\n",
    "X_test_ohe[numerical_cols] = scaler.transform(X_test_ohe[numerical_cols])\n",
    "\n",
    "# Conferir as formas\n",
    "print(f\"X_train shape: {X_train_ohe.shape}\")\n",
    "print(f\"X_test shape: {X_test_ohe.shape}\")\n",
    "print(f\"y_train shape: {y_train.shape}\")\n",
    "print(f\"y_test shape: {y_test.shape}\")"
   ]
  },
  {
   "cell_type": "markdown",
   "metadata": {},
   "source": [
    "### Floresta Aleatória"
   ]
  },
  {
   "cell_type": "code",
   "execution_count": 66,
   "metadata": {},
   "outputs": [
    {
     "name": "stdout",
     "output_type": "stream",
     "text": [
      "RandomForest RMSE: 1926.74\n",
      "Tempo de treinamento: 208.53 segundos\n"
     ]
    }
   ],
   "source": [
    "start_time = time.time()\n",
    "\n",
    "rf_model = RandomForestRegressor(\n",
    "    n_estimators=100,\n",
    "    max_depth=10,\n",
    "    min_samples_split=5,\n",
    "    random_state=12345\n",
    ")\n",
    "\n",
    "rf_model.fit(X_train_ohe, y_train)\n",
    "\n",
    "y_pred_rf = rf_model.predict(X_test_ohe)\n",
    "\n",
    "rmse_rf = mean_squared_error(y_test, y_pred_rf, squared=False)\n",
    "\n",
    "end_time = time.time()\n",
    "rf_training_time = end_time - start_time\n",
    "\n",
    "print(f\"RandomForest RMSE: {rmse_rf:.2f}\")\n",
    "print(f\"Tempo de treinamento: {rf_training_time:.2f} segundos\")"
   ]
  },
  {
   "cell_type": "markdown",
   "metadata": {},
   "source": [
    "#### procurando os melhores parâmetros"
   ]
  },
  {
   "cell_type": "markdown",
   "metadata": {},
   "source": [
    "A próxima célula levou cerca de 45 minutos para rodar. O resultado de RMSE apresentou uma melhora e, dessa forma, encontramos o melhor parâmetro para a Floresta aleatória, estou deixando o código onde eu usei o Randomized Search para encontrar o melhor parâmetro comentado, para que possa ser avaliado, mas que não seja necessário rodar mais uma vez. Os resultados estão na célula markdown seguinte. Na sequência, vou só treinar uma floresta aleatória diretamente com os melhores parâmetros obtidos"
   ]
  },
  {
   "cell_type": "code",
   "execution_count": 68,
   "metadata": {},
   "outputs": [
    {
     "name": "stdout",
     "output_type": "stream",
     "text": [
      "Melhores Hiperparâmetros: {'n_estimators': 200, 'min_samples_split': 5, 'max_depth': 15}\n",
      "RMSE com melhores hiperparâmetros: 1710.45\n",
      "Tempo total de otimização: 2628.09 segundos\n"
     ]
    }
   ],
   "source": [
    "\"\"\"param_grid = {\n",
    "    'n_estimators': [50, 100, 200],  # Número de árvores\n",
    "    'max_depth': [5, 10, 15],  # Profundidade máxima das árvores\n",
    "    'min_samples_split': [2, 5, 10]  # Mínimo de amostras para dividir um nó\n",
    "}\n",
    "\n",
    "rf_base = RandomForestRegressor(random_state=12345)\n",
    "\n",
    "rf_search = RandomizedSearchCV(\n",
    "    rf_base, param_grid, n_iter=5, cv=3, \n",
    "    scoring='neg_root_mean_squared_error', random_state=12345, n_jobs=-1\n",
    ")\n",
    "\n",
    "start_time = time.time()\n",
    "\n",
    "rf_search.fit(X_train_ohe, y_train)\n",
    "\n",
    "end_time = time.time()\n",
    "rf_optimization_time = end_time - start_time\n",
    "\n",
    "print(\"Melhores Hiperparâmetros:\", rf_search.best_params_)\n",
    "\n",
    "best_rf_model = rf_search.best_estimator_\n",
    "y_pred_best_rf = best_rf_model.predict(X_test_ohe)\n",
    "rmse_best_rf = mean_squared_error(y_test, y_pred_best_rf, squared=False)\n",
    "\n",
    "print(f\"RMSE com melhores hiperparâmetros: {rmse_best_rf:.2f}\")\n",
    "print(f\"Tempo total de otimização: {rf_optimization_time:.2f} segundos\")\"\"\""
   ]
  },
  {
   "cell_type": "markdown",
   "metadata": {},
   "source": [
    "Melhores Hiperparâmetros: {'n_estimators': 200, 'min_samples_split': 5, 'max_depth': 15}\n",
    "RMSE com melhores hiperparâmetros: 1710.45\n",
    "Tempo total de otimização: 2628.09 segundos"
   ]
  },
  {
   "cell_type": "code",
   "execution_count": 70,
   "metadata": {},
   "outputs": [
    {
     "name": "stdout",
     "output_type": "stream",
     "text": [
      "RandomForest (ajustado) RMSE: 1710.45\n",
      "Tempo de treinamento: 481.68 segundos\n"
     ]
    }
   ],
   "source": [
    "start_time = time.time()\n",
    "\n",
    "rf_optimized = RandomForestRegressor(\n",
    "    n_estimators=200, \n",
    "    max_depth=15, \n",
    "    min_samples_split=5, \n",
    "    random_state=12345\n",
    ")\n",
    "\n",
    "rf_optimized.fit(X_train_ohe, y_train)\n",
    "\n",
    "y_pred_rf_optimized = rf_optimized.predict(X_test_ohe)\n",
    "\n",
    "rmse_rf_optimized = mean_squared_error(y_test, y_pred_rf_optimized, squared=False)\n",
    "\n",
    "end_time = time.time()\n",
    "rf_final_training_time = end_time - start_time\n",
    "\n",
    "print(f\"RandomForest (ajustado) RMSE: {rmse_rf_optimized:.2f}\")\n",
    "print(f\"Tempo de treinamento: {rf_final_training_time:.2f} segundos\")"
   ]
  },
  {
   "cell_type": "markdown",
   "metadata": {},
   "source": [
    "Finalizamos o treinamento da Floresta Aleatória. Form cerca de oito minutos para o último treino, com um RMSE de 1710.45"
   ]
  },
  {
   "cell_type": "markdown",
   "metadata": {},
   "source": [
    "### CatBoost"
   ]
  },
  {
   "cell_type": "code",
   "execution_count": 72,
   "metadata": {},
   "outputs": [
    {
     "name": "stdout",
     "output_type": "stream",
     "text": [
      "0:\tlearn: 4194.4158428\ttotal: 659ms\tremaining: 10m 58s\n",
      "100:\tlearn: 1668.1130568\ttotal: 52.8s\tremaining: 7m 50s\n",
      "200:\tlearn: 1577.0404522\ttotal: 1m 48s\tremaining: 7m 9s\n",
      "300:\tlearn: 1527.8550904\ttotal: 2m 44s\tremaining: 6m 22s\n",
      "400:\tlearn: 1492.2149965\ttotal: 3m 40s\tremaining: 5m 29s\n",
      "500:\tlearn: 1465.6429233\ttotal: 4m 37s\tremaining: 4m 36s\n",
      "600:\tlearn: 1442.7987210\ttotal: 5m 34s\tremaining: 3m 41s\n",
      "700:\tlearn: 1423.7488215\ttotal: 6m 31s\tremaining: 2m 46s\n",
      "800:\tlearn: 1405.2408680\ttotal: 7m 29s\tremaining: 1m 51s\n",
      "900:\tlearn: 1388.1571964\ttotal: 8m 25s\tremaining: 55.6s\n",
      "999:\tlearn: 1373.8391704\ttotal: 9m 22s\tremaining: 0us\n",
      "CatBoost RMSE: 1570.20\n",
      "Tempo de treinamento: 566.50 segundos\n"
     ]
    }
   ],
   "source": [
    "start_time = time.time()\n",
    "\n",
    "cat_model = CatBoostRegressor(\n",
    "    iterations=1000,\n",
    "    depth=10,\n",
    "    learning_rate=0.1,\n",
    "    l2_leaf_reg=3,\n",
    "    loss_function='RMSE',\n",
    "    random_seed=12345,\n",
    "    cat_features=categorical_cols,\n",
    "    verbose=100\n",
    ")\n",
    "\n",
    "cat_model.fit(X_train, y_train)\n",
    "\n",
    "y_pred_cat = cat_model.predict(X_test)\n",
    "\n",
    "rmse_cat = mean_squared_error(y_test, y_pred_cat, squared=False)\n",
    "\n",
    "end_time = time.time()\n",
    "cat_training_time = end_time - start_time\n",
    "\n",
    "print(f\"CatBoost RMSE: {rmse_cat:.2f}\")\n",
    "print(f\"Tempo de treinamento: {cat_training_time:.2f} segundos\")"
   ]
  },
  {
   "cell_type": "markdown",
   "metadata": {},
   "source": [
    "#### procurando os melhores parâmetros"
   ]
  },
  {
   "cell_type": "code",
   "execution_count": null,
   "metadata": {},
   "outputs": [],
   "source": [
    "\"\"\"cat_params = {\n",
    "    'iterations': [500, 1000],\n",
    "    'depth': [6, 10],\n",
    "    'learning_rate': [0.05, 0.1],\n",
    "    'l2_leaf_reg': [3, 5],\n",
    "}\n",
    "\n",
    "# Criar modelo base\n",
    "cat_model = CatBoostRegressor(\n",
    "    loss_function='RMSE',\n",
    "    random_seed=12345,\n",
    "    cat_features=categorical_cols,\n",
    "    verbose=100\n",
    ")\n",
    "\n",
    "start_time = time.time()\n",
    "\n",
    "grid_search_result = cat_model.grid_search(\n",
    "    cat_params, \n",
    "    X_train, y_train, \n",
    "    cv=3\n",
    ")\n",
    "\n",
    "end_time = time.time()\n",
    "cat_optimization_time = end_time - start_time\n",
    "\n",
    "print(\"Melhores Hiperparâmetros:\", grid_search_result['params'])\n",
    "print(f\"Tempo total de otimização: {cat_optimization_time:.2f} segundos\")\"\"\""
   ]
  },
  {
   "cell_type": "markdown",
   "metadata": {},
   "source": [
    "A célula comentada acima traz o código que identifica os melhores parâmetros do CatBoost. Os parâmetros apresentados no resultado foram: Melhores Hiperparâmetros: {'depth': 10, 'l2_leaf_reg': 3, 'iterations': 1000, 'learning_rate': 0.1}. Essa célula teve tempo de execução de cerca de 1h10min. Agora, podemos treinar o modelo com os melhores parâmetros e encontrar o tempo total de treinamento."
   ]
  },
  {
   "cell_type": "code",
   "execution_count": 74,
   "metadata": {},
   "outputs": [
    {
     "name": "stdout",
     "output_type": "stream",
     "text": [
      "0:\tlearn: 4194.4158428\ttotal: 562ms\tremaining: 9m 21s\n",
      "100:\tlearn: 1668.1130568\ttotal: 53s\tremaining: 7m 51s\n",
      "200:\tlearn: 1577.0404522\ttotal: 1m 48s\tremaining: 7m 11s\n",
      "300:\tlearn: 1527.8550904\ttotal: 2m 45s\tremaining: 6m 23s\n",
      "400:\tlearn: 1492.2149965\ttotal: 3m 41s\tremaining: 5m 30s\n",
      "500:\tlearn: 1465.6429233\ttotal: 4m 37s\tremaining: 4m 36s\n",
      "600:\tlearn: 1442.7987210\ttotal: 5m 34s\tremaining: 3m 42s\n",
      "700:\tlearn: 1423.7488215\ttotal: 6m 31s\tremaining: 2m 47s\n",
      "800:\tlearn: 1405.2408680\ttotal: 7m 30s\tremaining: 1m 51s\n",
      "900:\tlearn: 1388.1571964\ttotal: 8m 27s\tremaining: 55.7s\n",
      "999:\tlearn: 1373.8391704\ttotal: 9m 24s\tremaining: 0us\n",
      "CatBoost RMSE (ajustado): 1570.20\n",
      "Tempo de treinamento: 567.45 segundos\n"
     ]
    }
   ],
   "source": [
    "start_time = time.time()\n",
    "\n",
    "best_cat_model = CatBoostRegressor(\n",
    "    depth=10, \n",
    "    l2_leaf_reg=3, \n",
    "    iterations=1000, \n",
    "    learning_rate=0.1, \n",
    "    loss_function='RMSE', \n",
    "    random_seed=12345,\n",
    "    cat_features=categorical_cols,\n",
    "    verbose=100\n",
    ")\n",
    "\n",
    "best_cat_model.fit(X_train, y_train)\n",
    "\n",
    "end_time = time.time()\n",
    "cat_final_training_time = end_time - start_time\n",
    "\n",
    "y_pred_best_cat = best_cat_model.predict(X_test)\n",
    "\n",
    "rmse_best_cat = mean_squared_error(y_test, y_pred_best_cat, squared=False)\n",
    "\n",
    "print(f\"CatBoost RMSE (ajustado): {rmse_best_cat:.2f}\")\n",
    "print(f\"Tempo de treinamento: {cat_final_training_time:.2f} segundos\")"
   ]
  },
  {
   "cell_type": "markdown",
   "metadata": {},
   "source": [
    "### LightGBM"
   ]
  },
  {
   "cell_type": "code",
   "execution_count": 77,
   "metadata": {},
   "outputs": [
    {
     "name": "stdout",
     "output_type": "stream",
     "text": [
      "LightGBM RMSE (básico): 1726.35\n",
      "Tempo de treinamento: 4.44 segundos\n"
     ]
    }
   ],
   "source": [
    "start_time = time.time()\n",
    "\n",
    "lgb_model = lgb.LGBMRegressor(\n",
    "    objective='regression',\n",
    "    metric='rmse',\n",
    "    random_state=12345\n",
    ")\n",
    "\n",
    "lgb_model.fit(X_train_ohe, y_train)\n",
    "\n",
    "end_time = time.time()\n",
    "lgb_training_time = end_time - start_time\n",
    "\n",
    "y_pred_lgb = lgb_model.predict(X_test_ohe)\n",
    "\n",
    "rmse_lgb = mean_squared_error(y_test, y_pred_lgb, squared=False)\n",
    "\n",
    "print(f\"LightGBM RMSE (básico): {rmse_lgb:.2f}\")\n",
    "print(f\"Tempo de treinamento: {lgb_training_time:.2f} segundos\")"
   ]
  },
  {
   "cell_type": "markdown",
   "metadata": {},
   "source": [
    "Um modelo que já superou a Floresta aleatória básica ao passo que traz um tempo de treinamento absurdamente menor. Vamos trabalhar em cima desses hiperparametros para ver se melhorams esse RMSE"
   ]
  },
  {
   "cell_type": "markdown",
   "metadata": {},
   "source": [
    "#### Procurando os melhores hiperparametros"
   ]
  },
  {
   "cell_type": "code",
   "execution_count": 82,
   "metadata": {},
   "outputs": [
    {
     "name": "stdout",
     "output_type": "stream",
     "text": [
      "Fitting 3 folds for each of 64 candidates, totalling 192 fits\n",
      "[CV 1/3] END learning_rate=0.05, max_depth=10, n_estimators=500, num_leaves=31, reg_alpha=0, reg_lambda=0; total time=  14.4s\n",
      "[CV 2/3] END learning_rate=0.05, max_depth=10, n_estimators=500, num_leaves=31, reg_alpha=0, reg_lambda=0; total time=  12.7s\n",
      "[CV 3/3] END learning_rate=0.05, max_depth=10, n_estimators=500, num_leaves=31, reg_alpha=0, reg_lambda=0; total time=  12.6s\n",
      "[CV 1/3] END learning_rate=0.05, max_depth=10, n_estimators=500, num_leaves=31, reg_alpha=0, reg_lambda=0.1; total time=  13.2s\n",
      "[CV 2/3] END learning_rate=0.05, max_depth=10, n_estimators=500, num_leaves=31, reg_alpha=0, reg_lambda=0.1; total time=  13.4s\n",
      "[CV 3/3] END learning_rate=0.05, max_depth=10, n_estimators=500, num_leaves=31, reg_alpha=0, reg_lambda=0.1; total time=  13.0s\n",
      "[CV 1/3] END learning_rate=0.05, max_depth=10, n_estimators=500, num_leaves=31, reg_alpha=0.1, reg_lambda=0; total time=  13.1s\n",
      "[CV 2/3] END learning_rate=0.05, max_depth=10, n_estimators=500, num_leaves=31, reg_alpha=0.1, reg_lambda=0; total time=  13.2s\n",
      "[CV 3/3] END learning_rate=0.05, max_depth=10, n_estimators=500, num_leaves=31, reg_alpha=0.1, reg_lambda=0; total time=  13.1s\n",
      "[CV 1/3] END learning_rate=0.05, max_depth=10, n_estimators=500, num_leaves=31, reg_alpha=0.1, reg_lambda=0.1; total time=  12.9s\n",
      "[CV 2/3] END learning_rate=0.05, max_depth=10, n_estimators=500, num_leaves=31, reg_alpha=0.1, reg_lambda=0.1; total time=  14.7s\n",
      "[CV 3/3] END learning_rate=0.05, max_depth=10, n_estimators=500, num_leaves=31, reg_alpha=0.1, reg_lambda=0.1; total time=  12.9s\n",
      "[CV 1/3] END learning_rate=0.05, max_depth=10, n_estimators=500, num_leaves=50, reg_alpha=0, reg_lambda=0; total time=  15.3s\n",
      "[CV 2/3] END learning_rate=0.05, max_depth=10, n_estimators=500, num_leaves=50, reg_alpha=0, reg_lambda=0; total time=  15.6s\n",
      "[CV 3/3] END learning_rate=0.05, max_depth=10, n_estimators=500, num_leaves=50, reg_alpha=0, reg_lambda=0; total time=  15.7s\n",
      "[CV 1/3] END learning_rate=0.05, max_depth=10, n_estimators=500, num_leaves=50, reg_alpha=0, reg_lambda=0.1; total time=  15.6s\n",
      "[CV 2/3] END learning_rate=0.05, max_depth=10, n_estimators=500, num_leaves=50, reg_alpha=0, reg_lambda=0.1; total time=  15.8s\n",
      "[CV 3/3] END learning_rate=0.05, max_depth=10, n_estimators=500, num_leaves=50, reg_alpha=0, reg_lambda=0.1; total time=  15.4s\n",
      "[CV 1/3] END learning_rate=0.05, max_depth=10, n_estimators=500, num_leaves=50, reg_alpha=0.1, reg_lambda=0; total time=  17.9s\n",
      "[CV 2/3] END learning_rate=0.05, max_depth=10, n_estimators=500, num_leaves=50, reg_alpha=0.1, reg_lambda=0; total time=  15.4s\n",
      "[CV 3/3] END learning_rate=0.05, max_depth=10, n_estimators=500, num_leaves=50, reg_alpha=0.1, reg_lambda=0; total time=  15.7s\n",
      "[CV 1/3] END learning_rate=0.05, max_depth=10, n_estimators=500, num_leaves=50, reg_alpha=0.1, reg_lambda=0.1; total time=  15.8s\n",
      "[CV 2/3] END learning_rate=0.05, max_depth=10, n_estimators=500, num_leaves=50, reg_alpha=0.1, reg_lambda=0.1; total time=  17.1s\n",
      "[CV 3/3] END learning_rate=0.05, max_depth=10, n_estimators=500, num_leaves=50, reg_alpha=0.1, reg_lambda=0.1; total time=  15.6s\n",
      "[CV 1/3] END learning_rate=0.05, max_depth=10, n_estimators=1000, num_leaves=31, reg_alpha=0, reg_lambda=0; total time=  21.9s\n",
      "[CV 2/3] END learning_rate=0.05, max_depth=10, n_estimators=1000, num_leaves=31, reg_alpha=0, reg_lambda=0; total time=  22.6s\n",
      "[CV 3/3] END learning_rate=0.05, max_depth=10, n_estimators=1000, num_leaves=31, reg_alpha=0, reg_lambda=0; total time=  22.2s\n",
      "[CV 1/3] END learning_rate=0.05, max_depth=10, n_estimators=1000, num_leaves=31, reg_alpha=0, reg_lambda=0.1; total time=  22.4s\n",
      "[CV 2/3] END learning_rate=0.05, max_depth=10, n_estimators=1000, num_leaves=31, reg_alpha=0, reg_lambda=0.1; total time=  22.4s\n",
      "[CV 3/3] END learning_rate=0.05, max_depth=10, n_estimators=1000, num_leaves=31, reg_alpha=0, reg_lambda=0.1; total time=  22.4s\n",
      "[CV 1/3] END learning_rate=0.05, max_depth=10, n_estimators=1000, num_leaves=31, reg_alpha=0.1, reg_lambda=0; total time=  22.5s\n",
      "[CV 2/3] END learning_rate=0.05, max_depth=10, n_estimators=1000, num_leaves=31, reg_alpha=0.1, reg_lambda=0; total time=  22.6s\n",
      "[CV 3/3] END learning_rate=0.05, max_depth=10, n_estimators=1000, num_leaves=31, reg_alpha=0.1, reg_lambda=0; total time=  23.2s\n",
      "[CV 1/3] END learning_rate=0.05, max_depth=10, n_estimators=1000, num_leaves=31, reg_alpha=0.1, reg_lambda=0.1; total time=  24.4s\n",
      "[CV 2/3] END learning_rate=0.05, max_depth=10, n_estimators=1000, num_leaves=31, reg_alpha=0.1, reg_lambda=0.1; total time=  22.7s\n",
      "[CV 3/3] END learning_rate=0.05, max_depth=10, n_estimators=1000, num_leaves=31, reg_alpha=0.1, reg_lambda=0.1; total time=  25.3s\n",
      "[CV 1/3] END learning_rate=0.05, max_depth=10, n_estimators=1000, num_leaves=50, reg_alpha=0, reg_lambda=0; total time=  28.2s\n",
      "[CV 2/3] END learning_rate=0.05, max_depth=10, n_estimators=1000, num_leaves=50, reg_alpha=0, reg_lambda=0; total time=  28.1s\n",
      "[CV 3/3] END learning_rate=0.05, max_depth=10, n_estimators=1000, num_leaves=50, reg_alpha=0, reg_lambda=0; total time=  27.4s\n",
      "[CV 1/3] END learning_rate=0.05, max_depth=10, n_estimators=1000, num_leaves=50, reg_alpha=0, reg_lambda=0.1; total time=  27.5s\n",
      "[CV 2/3] END learning_rate=0.05, max_depth=10, n_estimators=1000, num_leaves=50, reg_alpha=0, reg_lambda=0.1; total time=  27.7s\n",
      "[CV 3/3] END learning_rate=0.05, max_depth=10, n_estimators=1000, num_leaves=50, reg_alpha=0, reg_lambda=0.1; total time=  28.3s\n",
      "[CV 1/3] END learning_rate=0.05, max_depth=10, n_estimators=1000, num_leaves=50, reg_alpha=0.1, reg_lambda=0; total time=  27.2s\n",
      "[CV 2/3] END learning_rate=0.05, max_depth=10, n_estimators=1000, num_leaves=50, reg_alpha=0.1, reg_lambda=0; total time=  27.8s\n",
      "[CV 3/3] END learning_rate=0.05, max_depth=10, n_estimators=1000, num_leaves=50, reg_alpha=0.1, reg_lambda=0; total time=  27.9s\n",
      "[CV 1/3] END learning_rate=0.05, max_depth=10, n_estimators=1000, num_leaves=50, reg_alpha=0.1, reg_lambda=0.1; total time=  27.9s\n",
      "[CV 2/3] END learning_rate=0.05, max_depth=10, n_estimators=1000, num_leaves=50, reg_alpha=0.1, reg_lambda=0.1; total time=  51.9s\n",
      "[CV 3/3] END learning_rate=0.05, max_depth=10, n_estimators=1000, num_leaves=50, reg_alpha=0.1, reg_lambda=0.1; total time=  28.2s\n",
      "[CV 1/3] END learning_rate=0.05, max_depth=15, n_estimators=500, num_leaves=31, reg_alpha=0, reg_lambda=0; total time=  21.5s\n",
      "[CV 2/3] END learning_rate=0.05, max_depth=15, n_estimators=500, num_leaves=31, reg_alpha=0, reg_lambda=0; total time=14.7min\n",
      "[CV 3/3] END learning_rate=0.05, max_depth=15, n_estimators=500, num_leaves=31, reg_alpha=0, reg_lambda=0; total time= 7.9min\n",
      "[CV 1/3] END learning_rate=0.05, max_depth=15, n_estimators=500, num_leaves=31, reg_alpha=0, reg_lambda=0.1; total time=  23.5s\n",
      "[CV 2/3] END learning_rate=0.05, max_depth=15, n_estimators=500, num_leaves=31, reg_alpha=0, reg_lambda=0.1; total time=  13.2s\n",
      "[CV 3/3] END learning_rate=0.05, max_depth=15, n_estimators=500, num_leaves=31, reg_alpha=0, reg_lambda=0.1; total time=  13.4s\n",
      "[CV 1/3] END learning_rate=0.05, max_depth=15, n_estimators=500, num_leaves=31, reg_alpha=0.1, reg_lambda=0; total time= 2.3min\n",
      "[CV 2/3] END learning_rate=0.05, max_depth=15, n_estimators=500, num_leaves=31, reg_alpha=0.1, reg_lambda=0; total time=  13.5s\n",
      "[CV 3/3] END learning_rate=0.05, max_depth=15, n_estimators=500, num_leaves=31, reg_alpha=0.1, reg_lambda=0; total time=  13.4s\n",
      "[CV 1/3] END learning_rate=0.05, max_depth=15, n_estimators=500, num_leaves=31, reg_alpha=0.1, reg_lambda=0.1; total time=  13.2s\n",
      "[CV 2/3] END learning_rate=0.05, max_depth=15, n_estimators=500, num_leaves=31, reg_alpha=0.1, reg_lambda=0.1; total time=  13.5s\n",
      "[CV 3/3] END learning_rate=0.05, max_depth=15, n_estimators=500, num_leaves=31, reg_alpha=0.1, reg_lambda=0.1; total time=  13.7s\n",
      "[CV 1/3] END learning_rate=0.05, max_depth=15, n_estimators=500, num_leaves=50, reg_alpha=0, reg_lambda=0; total time=  17.4s\n",
      "[CV 2/3] END learning_rate=0.05, max_depth=15, n_estimators=500, num_leaves=50, reg_alpha=0, reg_lambda=0; total time=  16.0s\n",
      "[CV 3/3] END learning_rate=0.05, max_depth=15, n_estimators=500, num_leaves=50, reg_alpha=0, reg_lambda=0; total time=  16.0s\n",
      "[CV 1/3] END learning_rate=0.05, max_depth=15, n_estimators=500, num_leaves=50, reg_alpha=0, reg_lambda=0.1; total time=  16.0s\n"
     ]
    },
    {
     "name": "stdout",
     "output_type": "stream",
     "text": [
      "[CV 2/3] END learning_rate=0.05, max_depth=15, n_estimators=500, num_leaves=50, reg_alpha=0, reg_lambda=0.1; total time=  16.0s\n",
      "[CV 3/3] END learning_rate=0.05, max_depth=15, n_estimators=500, num_leaves=50, reg_alpha=0, reg_lambda=0.1; total time=  15.8s\n",
      "[CV 1/3] END learning_rate=0.05, max_depth=15, n_estimators=500, num_leaves=50, reg_alpha=0.1, reg_lambda=0; total time=  16.1s\n",
      "[CV 2/3] END learning_rate=0.05, max_depth=15, n_estimators=500, num_leaves=50, reg_alpha=0.1, reg_lambda=0; total time=  15.8s\n",
      "[CV 3/3] END learning_rate=0.05, max_depth=15, n_estimators=500, num_leaves=50, reg_alpha=0.1, reg_lambda=0; total time=  15.8s\n",
      "[CV 1/3] END learning_rate=0.05, max_depth=15, n_estimators=500, num_leaves=50, reg_alpha=0.1, reg_lambda=0.1; total time=  16.2s\n",
      "[CV 2/3] END learning_rate=0.05, max_depth=15, n_estimators=500, num_leaves=50, reg_alpha=0.1, reg_lambda=0.1; total time=  16.1s\n",
      "[CV 3/3] END learning_rate=0.05, max_depth=15, n_estimators=500, num_leaves=50, reg_alpha=0.1, reg_lambda=0.1; total time=  16.6s\n",
      "[CV 1/3] END learning_rate=0.05, max_depth=15, n_estimators=1000, num_leaves=31, reg_alpha=0, reg_lambda=0; total time=  22.3s\n",
      "[CV 2/3] END learning_rate=0.05, max_depth=15, n_estimators=1000, num_leaves=31, reg_alpha=0, reg_lambda=0; total time= 5.9min\n",
      "[CV 3/3] END learning_rate=0.05, max_depth=15, n_estimators=1000, num_leaves=31, reg_alpha=0, reg_lambda=0; total time=  22.0s\n",
      "[CV 1/3] END learning_rate=0.05, max_depth=15, n_estimators=1000, num_leaves=31, reg_alpha=0, reg_lambda=0.1; total time=  21.9s\n",
      "[CV 2/3] END learning_rate=0.05, max_depth=15, n_estimators=1000, num_leaves=31, reg_alpha=0, reg_lambda=0.1; total time=  22.6s\n",
      "[CV 3/3] END learning_rate=0.05, max_depth=15, n_estimators=1000, num_leaves=31, reg_alpha=0, reg_lambda=0.1; total time= 4.1min\n",
      "[CV 1/3] END learning_rate=0.05, max_depth=15, n_estimators=1000, num_leaves=31, reg_alpha=0.1, reg_lambda=0; total time= 8.0min\n",
      "[CV 2/3] END learning_rate=0.05, max_depth=15, n_estimators=1000, num_leaves=31, reg_alpha=0.1, reg_lambda=0; total time= 5.3min\n",
      "[CV 3/3] END learning_rate=0.05, max_depth=15, n_estimators=1000, num_leaves=31, reg_alpha=0.1, reg_lambda=0; total time= 4.3min\n",
      "[CV 1/3] END learning_rate=0.05, max_depth=15, n_estimators=1000, num_leaves=31, reg_alpha=0.1, reg_lambda=0.1; total time=  22.4s\n",
      "[CV 2/3] END learning_rate=0.05, max_depth=15, n_estimators=1000, num_leaves=31, reg_alpha=0.1, reg_lambda=0.1; total time=  23.0s\n",
      "[CV 3/3] END learning_rate=0.05, max_depth=15, n_estimators=1000, num_leaves=31, reg_alpha=0.1, reg_lambda=0.1; total time=  22.5s\n",
      "[CV 1/3] END learning_rate=0.05, max_depth=15, n_estimators=1000, num_leaves=50, reg_alpha=0, reg_lambda=0; total time=  26.7s\n",
      "[CV 2/3] END learning_rate=0.05, max_depth=15, n_estimators=1000, num_leaves=50, reg_alpha=0, reg_lambda=0; total time=  26.9s\n",
      "[CV 3/3] END learning_rate=0.05, max_depth=15, n_estimators=1000, num_leaves=50, reg_alpha=0, reg_lambda=0; total time=  30.7s\n",
      "[CV 1/3] END learning_rate=0.05, max_depth=15, n_estimators=1000, num_leaves=50, reg_alpha=0, reg_lambda=0.1; total time=  27.1s\n",
      "[CV 2/3] END learning_rate=0.05, max_depth=15, n_estimators=1000, num_leaves=50, reg_alpha=0, reg_lambda=0.1; total time=  27.1s\n",
      "[CV 3/3] END learning_rate=0.05, max_depth=15, n_estimators=1000, num_leaves=50, reg_alpha=0, reg_lambda=0.1; total time=  27.0s\n",
      "[CV 1/3] END learning_rate=0.05, max_depth=15, n_estimators=1000, num_leaves=50, reg_alpha=0.1, reg_lambda=0; total time=  32.7s\n",
      "[CV 2/3] END learning_rate=0.05, max_depth=15, n_estimators=1000, num_leaves=50, reg_alpha=0.1, reg_lambda=0; total time=  26.5s\n",
      "[CV 3/3] END learning_rate=0.05, max_depth=15, n_estimators=1000, num_leaves=50, reg_alpha=0.1, reg_lambda=0; total time=  26.8s\n",
      "[CV 1/3] END learning_rate=0.05, max_depth=15, n_estimators=1000, num_leaves=50, reg_alpha=0.1, reg_lambda=0.1; total time=  27.1s\n",
      "[CV 2/3] END learning_rate=0.05, max_depth=15, n_estimators=1000, num_leaves=50, reg_alpha=0.1, reg_lambda=0.1; total time=  26.4s\n",
      "[CV 3/3] END learning_rate=0.05, max_depth=15, n_estimators=1000, num_leaves=50, reg_alpha=0.1, reg_lambda=0.1; total time=  26.7s\n",
      "[CV 1/3] END learning_rate=0.1, max_depth=10, n_estimators=500, num_leaves=31, reg_alpha=0, reg_lambda=0; total time=  11.7s\n",
      "[CV 2/3] END learning_rate=0.1, max_depth=10, n_estimators=500, num_leaves=31, reg_alpha=0, reg_lambda=0; total time=  12.0s\n",
      "[CV 3/3] END learning_rate=0.1, max_depth=10, n_estimators=500, num_leaves=31, reg_alpha=0, reg_lambda=0; total time=  11.6s\n",
      "[CV 1/3] END learning_rate=0.1, max_depth=10, n_estimators=500, num_leaves=31, reg_alpha=0, reg_lambda=0.1; total time=  11.5s\n",
      "[CV 2/3] END learning_rate=0.1, max_depth=10, n_estimators=500, num_leaves=31, reg_alpha=0, reg_lambda=0.1; total time=  11.7s\n",
      "[CV 3/3] END learning_rate=0.1, max_depth=10, n_estimators=500, num_leaves=31, reg_alpha=0, reg_lambda=0.1; total time=  11.8s\n",
      "[CV 1/3] END learning_rate=0.1, max_depth=10, n_estimators=500, num_leaves=31, reg_alpha=0.1, reg_lambda=0; total time=  11.9s\n",
      "[CV 2/3] END learning_rate=0.1, max_depth=10, n_estimators=500, num_leaves=31, reg_alpha=0.1, reg_lambda=0; total time=  12.0s\n",
      "[CV 3/3] END learning_rate=0.1, max_depth=10, n_estimators=500, num_leaves=31, reg_alpha=0.1, reg_lambda=0; total time=  11.9s\n",
      "[CV 1/3] END learning_rate=0.1, max_depth=10, n_estimators=500, num_leaves=31, reg_alpha=0.1, reg_lambda=0.1; total time=  11.6s\n",
      "[CV 2/3] END learning_rate=0.1, max_depth=10, n_estimators=500, num_leaves=31, reg_alpha=0.1, reg_lambda=0.1; total time=  11.9s\n",
      "[CV 3/3] END learning_rate=0.1, max_depth=10, n_estimators=500, num_leaves=31, reg_alpha=0.1, reg_lambda=0.1; total time=  14.0s\n",
      "[CV 1/3] END learning_rate=0.1, max_depth=10, n_estimators=500, num_leaves=50, reg_alpha=0, reg_lambda=0; total time=  14.4s\n",
      "[CV 2/3] END learning_rate=0.1, max_depth=10, n_estimators=500, num_leaves=50, reg_alpha=0, reg_lambda=0; total time=  14.7s\n",
      "[CV 3/3] END learning_rate=0.1, max_depth=10, n_estimators=500, num_leaves=50, reg_alpha=0, reg_lambda=0; total time=  14.5s\n",
      "[CV 1/3] END learning_rate=0.1, max_depth=10, n_estimators=500, num_leaves=50, reg_alpha=0, reg_lambda=0.1; total time=  14.5s\n",
      "[CV 2/3] END learning_rate=0.1, max_depth=10, n_estimators=500, num_leaves=50, reg_alpha=0, reg_lambda=0.1; total time=  14.7s\n",
      "[CV 3/3] END learning_rate=0.1, max_depth=10, n_estimators=500, num_leaves=50, reg_alpha=0, reg_lambda=0.1; total time=  14.3s\n",
      "[CV 1/3] END learning_rate=0.1, max_depth=10, n_estimators=500, num_leaves=50, reg_alpha=0.1, reg_lambda=0; total time=  14.6s\n",
      "[CV 2/3] END learning_rate=0.1, max_depth=10, n_estimators=500, num_leaves=50, reg_alpha=0.1, reg_lambda=0; total time=  14.3s\n",
      "[CV 3/3] END learning_rate=0.1, max_depth=10, n_estimators=500, num_leaves=50, reg_alpha=0.1, reg_lambda=0; total time=  14.3s\n",
      "[CV 1/3] END learning_rate=0.1, max_depth=10, n_estimators=500, num_leaves=50, reg_alpha=0.1, reg_lambda=0.1; total time=  14.3s\n",
      "[CV 2/3] END learning_rate=0.1, max_depth=10, n_estimators=500, num_leaves=50, reg_alpha=0.1, reg_lambda=0.1; total time=  15.6s\n",
      "[CV 3/3] END learning_rate=0.1, max_depth=10, n_estimators=500, num_leaves=50, reg_alpha=0.1, reg_lambda=0.1; total time=  14.4s\n",
      "[CV 1/3] END learning_rate=0.1, max_depth=10, n_estimators=1000, num_leaves=31, reg_alpha=0, reg_lambda=0; total time=  20.6s\n",
      "[CV 2/3] END learning_rate=0.1, max_depth=10, n_estimators=1000, num_leaves=31, reg_alpha=0, reg_lambda=0; total time=  20.6s\n",
      "[CV 3/3] END learning_rate=0.1, max_depth=10, n_estimators=1000, num_leaves=31, reg_alpha=0, reg_lambda=0; total time=  20.4s\n",
      "[CV 1/3] END learning_rate=0.1, max_depth=10, n_estimators=1000, num_leaves=31, reg_alpha=0, reg_lambda=0.1; total time=  19.9s\n",
      "[CV 2/3] END learning_rate=0.1, max_depth=10, n_estimators=1000, num_leaves=31, reg_alpha=0, reg_lambda=0.1; total time=  22.9s\n",
      "[CV 3/3] END learning_rate=0.1, max_depth=10, n_estimators=1000, num_leaves=31, reg_alpha=0, reg_lambda=0.1; total time=  20.9s\n",
      "[CV 1/3] END learning_rate=0.1, max_depth=10, n_estimators=1000, num_leaves=31, reg_alpha=0.1, reg_lambda=0; total time=  21.0s\n",
      "[CV 2/3] END learning_rate=0.1, max_depth=10, n_estimators=1000, num_leaves=31, reg_alpha=0.1, reg_lambda=0; total time=  20.6s\n",
      "[CV 3/3] END learning_rate=0.1, max_depth=10, n_estimators=1000, num_leaves=31, reg_alpha=0.1, reg_lambda=0; total time=  20.9s\n"
     ]
    },
    {
     "name": "stdout",
     "output_type": "stream",
     "text": [
      "[CV 1/3] END learning_rate=0.1, max_depth=10, n_estimators=1000, num_leaves=31, reg_alpha=0.1, reg_lambda=0.1; total time=  21.2s\n",
      "[CV 2/3] END learning_rate=0.1, max_depth=10, n_estimators=1000, num_leaves=31, reg_alpha=0.1, reg_lambda=0.1; total time=  21.4s\n",
      "[CV 3/3] END learning_rate=0.1, max_depth=10, n_estimators=1000, num_leaves=31, reg_alpha=0.1, reg_lambda=0.1; total time=  20.4s\n",
      "[CV 1/3] END learning_rate=0.1, max_depth=10, n_estimators=1000, num_leaves=50, reg_alpha=0, reg_lambda=0; total time=  26.2s\n",
      "[CV 2/3] END learning_rate=0.1, max_depth=10, n_estimators=1000, num_leaves=50, reg_alpha=0, reg_lambda=0; total time=  25.0s\n",
      "[CV 3/3] END learning_rate=0.1, max_depth=10, n_estimators=1000, num_leaves=50, reg_alpha=0, reg_lambda=0; total time=  25.5s\n",
      "[CV 1/3] END learning_rate=0.1, max_depth=10, n_estimators=1000, num_leaves=50, reg_alpha=0, reg_lambda=0.1; total time=  25.3s\n",
      "[CV 2/3] END learning_rate=0.1, max_depth=10, n_estimators=1000, num_leaves=50, reg_alpha=0, reg_lambda=0.1; total time=  25.3s\n",
      "[CV 3/3] END learning_rate=0.1, max_depth=10, n_estimators=1000, num_leaves=50, reg_alpha=0, reg_lambda=0.1; total time=  26.9s\n",
      "[CV 1/3] END learning_rate=0.1, max_depth=10, n_estimators=1000, num_leaves=50, reg_alpha=0.1, reg_lambda=0; total time=  25.7s\n",
      "[CV 2/3] END learning_rate=0.1, max_depth=10, n_estimators=1000, num_leaves=50, reg_alpha=0.1, reg_lambda=0; total time=  25.8s\n",
      "[CV 3/3] END learning_rate=0.1, max_depth=10, n_estimators=1000, num_leaves=50, reg_alpha=0.1, reg_lambda=0; total time=  26.4s\n",
      "[CV 1/3] END learning_rate=0.1, max_depth=10, n_estimators=1000, num_leaves=50, reg_alpha=0.1, reg_lambda=0.1; total time=  25.6s\n",
      "[CV 2/3] END learning_rate=0.1, max_depth=10, n_estimators=1000, num_leaves=50, reg_alpha=0.1, reg_lambda=0.1; total time=  27.6s\n",
      "[CV 3/3] END learning_rate=0.1, max_depth=10, n_estimators=1000, num_leaves=50, reg_alpha=0.1, reg_lambda=0.1; total time=  25.5s\n",
      "[CV 1/3] END learning_rate=0.1, max_depth=15, n_estimators=500, num_leaves=31, reg_alpha=0, reg_lambda=0; total time=  11.6s\n",
      "[CV 2/3] END learning_rate=0.1, max_depth=15, n_estimators=500, num_leaves=31, reg_alpha=0, reg_lambda=0; total time=  11.7s\n",
      "[CV 3/3] END learning_rate=0.1, max_depth=15, n_estimators=500, num_leaves=31, reg_alpha=0, reg_lambda=0; total time=  12.3s\n",
      "[CV 1/3] END learning_rate=0.1, max_depth=15, n_estimators=500, num_leaves=31, reg_alpha=0, reg_lambda=0.1; total time=  11.5s\n",
      "[CV 2/3] END learning_rate=0.1, max_depth=15, n_estimators=500, num_leaves=31, reg_alpha=0, reg_lambda=0.1; total time=  11.9s\n",
      "[CV 3/3] END learning_rate=0.1, max_depth=15, n_estimators=500, num_leaves=31, reg_alpha=0, reg_lambda=0.1; total time=  11.6s\n",
      "[CV 1/3] END learning_rate=0.1, max_depth=15, n_estimators=500, num_leaves=31, reg_alpha=0.1, reg_lambda=0; total time=  11.7s\n",
      "[CV 2/3] END learning_rate=0.1, max_depth=15, n_estimators=500, num_leaves=31, reg_alpha=0.1, reg_lambda=0; total time=  11.9s\n",
      "[CV 3/3] END learning_rate=0.1, max_depth=15, n_estimators=500, num_leaves=31, reg_alpha=0.1, reg_lambda=0; total time=  11.6s\n",
      "[CV 1/3] END learning_rate=0.1, max_depth=15, n_estimators=500, num_leaves=31, reg_alpha=0.1, reg_lambda=0.1; total time=  11.7s\n",
      "[CV 2/3] END learning_rate=0.1, max_depth=15, n_estimators=500, num_leaves=31, reg_alpha=0.1, reg_lambda=0.1; total time=  11.7s\n",
      "[CV 3/3] END learning_rate=0.1, max_depth=15, n_estimators=500, num_leaves=31, reg_alpha=0.1, reg_lambda=0.1; total time=  12.5s\n",
      "[CV 1/3] END learning_rate=0.1, max_depth=15, n_estimators=500, num_leaves=50, reg_alpha=0, reg_lambda=0; total time=  14.3s\n",
      "[CV 2/3] END learning_rate=0.1, max_depth=15, n_estimators=500, num_leaves=50, reg_alpha=0, reg_lambda=0; total time=  14.0s\n",
      "[CV 3/3] END learning_rate=0.1, max_depth=15, n_estimators=500, num_leaves=50, reg_alpha=0, reg_lambda=0; total time=  14.2s\n",
      "[CV 1/3] END learning_rate=0.1, max_depth=15, n_estimators=500, num_leaves=50, reg_alpha=0, reg_lambda=0.1; total time=  14.0s\n",
      "[CV 2/3] END learning_rate=0.1, max_depth=15, n_estimators=500, num_leaves=50, reg_alpha=0, reg_lambda=0.1; total time=  14.1s\n",
      "[CV 3/3] END learning_rate=0.1, max_depth=15, n_estimators=500, num_leaves=50, reg_alpha=0, reg_lambda=0.1; total time=  13.9s\n",
      "[CV 1/3] END learning_rate=0.1, max_depth=15, n_estimators=500, num_leaves=50, reg_alpha=0.1, reg_lambda=0; total time=  14.1s\n",
      "[CV 2/3] END learning_rate=0.1, max_depth=15, n_estimators=500, num_leaves=50, reg_alpha=0.1, reg_lambda=0; total time=  14.2s\n",
      "[CV 3/3] END learning_rate=0.1, max_depth=15, n_estimators=500, num_leaves=50, reg_alpha=0.1, reg_lambda=0; total time=  14.4s\n",
      "[CV 1/3] END learning_rate=0.1, max_depth=15, n_estimators=500, num_leaves=50, reg_alpha=0.1, reg_lambda=0.1; total time=  14.0s\n",
      "[CV 2/3] END learning_rate=0.1, max_depth=15, n_estimators=500, num_leaves=50, reg_alpha=0.1, reg_lambda=0.1; total time=  15.3s\n",
      "[CV 3/3] END learning_rate=0.1, max_depth=15, n_estimators=500, num_leaves=50, reg_alpha=0.1, reg_lambda=0.1; total time=  14.8s\n",
      "[CV 1/3] END learning_rate=0.1, max_depth=15, n_estimators=1000, num_leaves=31, reg_alpha=0, reg_lambda=0; total time=  19.6s\n",
      "[CV 2/3] END learning_rate=0.1, max_depth=15, n_estimators=1000, num_leaves=31, reg_alpha=0, reg_lambda=0; total time=  20.1s\n",
      "[CV 3/3] END learning_rate=0.1, max_depth=15, n_estimators=1000, num_leaves=31, reg_alpha=0, reg_lambda=0; total time=  20.1s\n",
      "[CV 1/3] END learning_rate=0.1, max_depth=15, n_estimators=1000, num_leaves=31, reg_alpha=0, reg_lambda=0.1; total time=  19.9s\n",
      "[CV 2/3] END learning_rate=0.1, max_depth=15, n_estimators=1000, num_leaves=31, reg_alpha=0, reg_lambda=0.1; total time=  19.9s\n",
      "[CV 3/3] END learning_rate=0.1, max_depth=15, n_estimators=1000, num_leaves=31, reg_alpha=0, reg_lambda=0.1; total time=  20.1s\n",
      "[CV 1/3] END learning_rate=0.1, max_depth=15, n_estimators=1000, num_leaves=31, reg_alpha=0.1, reg_lambda=0; total time=  20.1s\n",
      "[CV 2/3] END learning_rate=0.1, max_depth=15, n_estimators=1000, num_leaves=31, reg_alpha=0.1, reg_lambda=0; total time=  20.1s\n",
      "[CV 3/3] END learning_rate=0.1, max_depth=15, n_estimators=1000, num_leaves=31, reg_alpha=0.1, reg_lambda=0; total time=  20.1s\n",
      "[CV 1/3] END learning_rate=0.1, max_depth=15, n_estimators=1000, num_leaves=31, reg_alpha=0.1, reg_lambda=0.1; total time=  19.7s\n",
      "[CV 2/3] END learning_rate=0.1, max_depth=15, n_estimators=1000, num_leaves=31, reg_alpha=0.1, reg_lambda=0.1; total time=  20.3s\n",
      "[CV 3/3] END learning_rate=0.1, max_depth=15, n_estimators=1000, num_leaves=31, reg_alpha=0.1, reg_lambda=0.1; total time=  20.4s\n",
      "[CV 1/3] END learning_rate=0.1, max_depth=15, n_estimators=1000, num_leaves=50, reg_alpha=0, reg_lambda=0; total time=  24.0s\n",
      "[CV 2/3] END learning_rate=0.1, max_depth=15, n_estimators=1000, num_leaves=50, reg_alpha=0, reg_lambda=0; total time=  24.5s\n",
      "[CV 3/3] END learning_rate=0.1, max_depth=15, n_estimators=1000, num_leaves=50, reg_alpha=0, reg_lambda=0; total time=  23.9s\n",
      "[CV 1/3] END learning_rate=0.1, max_depth=15, n_estimators=1000, num_leaves=50, reg_alpha=0, reg_lambda=0.1; total time=  23.8s\n",
      "[CV 2/3] END learning_rate=0.1, max_depth=15, n_estimators=1000, num_leaves=50, reg_alpha=0, reg_lambda=0.1; total time=  23.9s\n",
      "[CV 3/3] END learning_rate=0.1, max_depth=15, n_estimators=1000, num_leaves=50, reg_alpha=0, reg_lambda=0.1; total time=  23.8s\n",
      "[CV 1/3] END learning_rate=0.1, max_depth=15, n_estimators=1000, num_leaves=50, reg_alpha=0.1, reg_lambda=0; total time=  24.0s\n",
      "[CV 2/3] END learning_rate=0.1, max_depth=15, n_estimators=1000, num_leaves=50, reg_alpha=0.1, reg_lambda=0; total time=  24.2s\n",
      "[CV 3/3] END learning_rate=0.1, max_depth=15, n_estimators=1000, num_leaves=50, reg_alpha=0.1, reg_lambda=0; total time=  24.4s\n",
      "[CV 1/3] END learning_rate=0.1, max_depth=15, n_estimators=1000, num_leaves=50, reg_alpha=0.1, reg_lambda=0.1; total time=  24.7s\n",
      "[CV 2/3] END learning_rate=0.1, max_depth=15, n_estimators=1000, num_leaves=50, reg_alpha=0.1, reg_lambda=0.1; total time=  24.4s\n",
      "[CV 3/3] END learning_rate=0.1, max_depth=15, n_estimators=1000, num_leaves=50, reg_alpha=0.1, reg_lambda=0.1; total time=  24.5s\n",
      "Melhores Hiperparâmetros: {'learning_rate': 0.1, 'max_depth': 15, 'n_estimators': 1000, 'num_leaves': 50, 'reg_alpha': 0.1, 'reg_lambda': 0}\n",
      "Tempo total de otimização: 6694.39 segundos\n"
     ]
    }
   ],
   "source": [
    "\"\"\"lgb_params = {\n",
    "    'num_leaves': [31, 50],\n",
    "    'learning_rate': [0.05, 0.1],\n",
    "    'n_estimators': [500, 1000],\n",
    "    'max_depth': [10, 15],\n",
    "    'reg_alpha': [0, 0.1],\n",
    "    'reg_lambda': [0, 0.1]\n",
    "}\n",
    "\n",
    "lgb_model = lgb.LGBMRegressor(objective='regression', metric='rmse', random_state=12345)\n",
    "\n",
    "grid_search = GridSearchCV(\n",
    "    estimator=lgb_model, \n",
    "    param_grid=lgb_params, \n",
    "    scoring='neg_root_mean_squared_error',\n",
    "    cv=3,\n",
    "    verbose=3,\n",
    "    n_jobs=-1\n",
    ")\n",
    "\n",
    "start_time = time.time()\n",
    "\n",
    "grid_search.fit(X_train_ohe, y_train)\n",
    "\n",
    "end_time = time.time()\n",
    "lgb_optimization_time = end_time - start_time\n",
    "\n",
    "best_lgb_params = grid_search.best_params_\n",
    "\n",
    "print(\"Melhores Hiperparâmetros:\", best_lgb_params)\n",
    "print(f\"Tempo total de otimização: {lgb_optimization_time:.2f} segundos\")\"\"\""
   ]
  },
  {
   "cell_type": "markdown",
   "metadata": {},
   "source": [
    "Encontramos os parametros e o tempo de execução desse treinamento. Eles são: Melhores Hiperparâmetros: {'learning_rate': 0.1, 'max_depth': 15, 'n_estimators': 1000, 'num_leaves': 50, 'reg_alpha': 0.1, 'reg_lambda': 0}\n",
    "Tempo total de otimização: 6694.39 segundos. Aproximadamente 1h51 minutos de trabalho, mas podemos, finalmente, finalizar o treino desse modelo. Como nos outros casos, vou manter o código comentado, para que não seja necessário executá-lo novamente na avaliação do projeto."
   ]
  },
  {
   "cell_type": "code",
   "execution_count": 83,
   "metadata": {},
   "outputs": [
    {
     "name": "stdout",
     "output_type": "stream",
     "text": [
      "LightGBM RMSE (ajustado): 1566.78\n",
      "Tempo de treinamento: 34.59 segundos\n"
     ]
    }
   ],
   "source": [
    "start_time = time.time()\n",
    "\n",
    "best_lgb_model = lgb.LGBMRegressor(\n",
    "    learning_rate=0.1,\n",
    "    max_depth=15,\n",
    "    n_estimators=1000,\n",
    "    num_leaves=50,\n",
    "    reg_alpha=0.1,\n",
    "    reg_lambda=0,\n",
    "    objective='regression',\n",
    "    metric='rmse',\n",
    "    random_state=12345\n",
    ")\n",
    "\n",
    "best_lgb_model.fit(X_train_ohe, y_train)\n",
    "\n",
    "end_time = time.time()\n",
    "lgb_training_time = end_time - start_time\n",
    "\n",
    "y_pred_best_lgb = best_lgb_model.predict(X_test_ohe)\n",
    "\n",
    "rmse_best_lgb = mean_squared_error(y_test, y_pred_best_lgb, squared=False)\n",
    "\n",
    "print(f\"LightGBM RMSE (ajustado): {rmse_best_lgb:.2f}\")\n",
    "print(f\"Tempo de treinamento: {lgb_training_time:.2f} segundos\")"
   ]
  },
  {
   "cell_type": "markdown",
   "metadata": {},
   "source": [
    "### Regressão Linear"
   ]
  },
  {
   "cell_type": "code",
   "execution_count": 28,
   "metadata": {},
   "outputs": [
    {
     "name": "stdout",
     "output_type": "stream",
     "text": [
      "Regressão Linear RMSE: 2628.22\n",
      "Tempo de treinamento: 10.56 segundos\n"
     ]
    }
   ],
   "source": [
    "start_time = time.time()\n",
    "\n",
    "lr_model = LinearRegression()\n",
    "lr_model.fit(X_train_ohe, y_train)\n",
    "\n",
    "end_time = time.time()\n",
    "lr_training_time = end_time - start_time\n",
    "\n",
    "y_pred_lr = lr_model.predict(X_test_ohe)\n",
    "\n",
    "rmse_lr = mean_squared_error(y_test, y_pred_lr, squared=False)\n",
    "\n",
    "print(f\"Regressão Linear RMSE: {rmse_lr:.2f}\")\n",
    "print(f\"Tempo de treinamento: {lr_training_time:.2f} segundos\")"
   ]
  },
  {
   "cell_type": "code",
   "execution_count": 29,
   "metadata": {},
   "outputs": [
    {
     "name": "stdout",
     "output_type": "stream",
     "text": [
      "Fitting 3 folds for each of 4 candidates, totalling 12 fits\n",
      "[CV 1/3] END ..............fit_intercept=True, positive=True; total time=  21.9s\n",
      "[CV 2/3] END ..............fit_intercept=True, positive=True; total time=  21.9s\n",
      "[CV 3/3] END ..............fit_intercept=True, positive=True; total time=  21.9s\n",
      "[CV 1/3] END .............fit_intercept=True, positive=False; total time=   7.0s\n",
      "[CV 2/3] END .............fit_intercept=True, positive=False; total time=   7.2s\n",
      "[CV 3/3] END .............fit_intercept=True, positive=False; total time=   7.1s\n",
      "[CV 1/3] END .............fit_intercept=False, positive=True; total time=  21.7s\n",
      "[CV 2/3] END .............fit_intercept=False, positive=True; total time=  21.6s\n",
      "[CV 3/3] END .............fit_intercept=False, positive=True; total time=  21.4s\n",
      "[CV 1/3] END ............fit_intercept=False, positive=False; total time=   7.1s\n",
      "[CV 2/3] END ............fit_intercept=False, positive=False; total time=   7.2s\n",
      "[CV 3/3] END ............fit_intercept=False, positive=False; total time=   7.3s\n",
      "Melhores Hiperparâmetros: {'fit_intercept': True, 'positive': False}\n",
      "Tempo total de otimização: 184.37 segundos\n"
     ]
    }
   ],
   "source": [
    "lr_params = {\n",
    "    'fit_intercept': [True, False],  # Testar com e sem intercepto\n",
    "    'positive': [True, False]  # Testar se forçamos coeficientes positivos\n",
    "}\n",
    "\n",
    "lr_model = LinearRegression()\n",
    "\n",
    "grid_search_lr = GridSearchCV(\n",
    "    estimator=lr_model, \n",
    "    param_grid=lr_params, \n",
    "    scoring='neg_root_mean_squared_error', \n",
    "    cv=3,\n",
    "    verbose=3\n",
    ")\n",
    "\n",
    "start_time = time.time()\n",
    "grid_search_lr.fit(X_train_ohe, y_train)\n",
    "end_time = time.time()\n",
    "lr_optimization_time = end_time - start_time\n",
    "\n",
    "best_lr_params = grid_search_lr.best_params_\n",
    "\n",
    "print(\"Melhores Hiperparâmetros:\", best_lr_params)\n",
    "print(f\"Tempo total de otimização: {lr_optimization_time:.2f} segundos\")"
   ]
  },
  {
   "cell_type": "code",
   "execution_count": 30,
   "metadata": {},
   "outputs": [
    {
     "name": "stdout",
     "output_type": "stream",
     "text": [
      "Regressão Linear RMSE (ajustado): 2628.22\n",
      "Tempo de treinamento: 10.55 segundos\n"
     ]
    }
   ],
   "source": [
    "start_time = time.time()\n",
    "\n",
    "best_lr_model = LinearRegression(fit_intercept=True, positive=False)\n",
    "\n",
    "best_lr_model.fit(X_train_ohe, y_train)\n",
    "\n",
    "end_time = time.time()\n",
    "lr_training_time = end_time - start_time\n",
    "\n",
    "y_pred_best_lr = best_lr_model.predict(X_test_ohe)\n",
    "\n",
    "rmse_best_lr = mean_squared_error(y_test, y_pred_best_lr, squared=False)\n",
    "\n",
    "print(f\"Regressão Linear RMSE (ajustado): {rmse_best_lr:.2f}\")\n",
    "print(f\"Tempo de treinamento: {lr_training_time:.2f} segundos\")"
   ]
  },
  {
   "cell_type": "markdown",
   "metadata": {},
   "source": [
    "De longe, nossos piores resultados. Isso era previsível e o próprio projeto já apontava a Regressão Linear como um modelo para tirar prova. Com isso, terminamos a etapa de treinamento dos modelos. "
   ]
  },
  {
   "cell_type": "markdown",
   "metadata": {},
   "source": [
    "<div class=\"alert alert-block alert-success\">\n",
    "<b> Comentário do revisor: </b> <a class=\"tocSkip\"></a>\n",
    "\n",
    "Dica: Não há necessidade de treinar novamente com os melhores parâmetros pois o GridSearchCV salva para você no atributo best_estimator_. Não sei se você treinou novamente para pegar o tempo\n",
    "</div>"
   ]
  },
  {
   "cell_type": "markdown",
   "metadata": {},
   "source": [
    "## Análise do modelo"
   ]
  },
  {
   "cell_type": "markdown",
   "metadata": {},
   "source": [
    "Bom, com isso, finalizamos mais um projeto. Tínhamos o objetivo de treinar diferentes tipos de algoritmo para que ele pudesse prever o preço de um veículo. Precisavamos do RMSE e do tempo de treinamento como métricas de avaliação. E foi isso que fizemos. na etapa de preparação de dados, tivemos que determinar quais colunas seriam relevantes ao trabalho e quais só adicionariam um peso desnecessário aos nossos modelos. Excluímos tudo que consideramos desnecessário e garantimos que todos os dados ausentes fossem devidamente tratados para começar. \n",
    "\n",
    "Em seguida, iniciamos nosso treinamento. Seguindo as especificações, treinamos uma Floresta Aleatória, Um Catboost, um LightGBM e uma Regressão Linear. O processo para encontrar os melhores hiperparâmetros foi o mais demorado. O lightGBM levou quase duas horas para finalizar esse processo. Ainda assim, quando restringimos a tempo de treinamento do modelo, exclusivamente, ele teve um excelente desempenho, finalizando o treinamento em 34.59 segundos e apresentando o melhor RMSE com certa folga (1566.78). \n",
    "\n",
    "O Catboost teve uma precisão próxima, alcançando 1570.20, mas precisou de maistempo de treino. A nossa floresta aleatória ficou em terceiro lugar com 1710 de RMSE e um tempo de 8 minutos. Como era esperado, a Regressão linear não era uma boa alternativa para a tarefa e fcou clara diferença dela para todos os outros modelos, algo que o projeto parecia querer evidenciar desde o início, basedo na descrição que temos. Bom, finalizamos com o LightGBM como a melhor escolha tanto em tempo quanto em RMSE."
   ]
  },
  {
   "cell_type": "markdown",
   "metadata": {},
   "source": [
    "\n",
    "Modelo                  RMSE (Erro Médio)    Tempo de Treinamento\n",
    "RandomForest (padrão)   1926.74              208.53seg (~3,5 min)\n",
    "RandomForest (ajustado) 1710.45              481.68seg (~8 min)\n",
    "CatBoost (padrão)       1570.20              566.50seg (~9,5 min)\n",
    "CatBoost (ajustado)     1570.20              567.45seg (~9,5 min)\n",
    "LightGBM (básico)       1726.35              4.44 seg \n",
    "LightGBM (ajustado)     1566.78              34.59 seg \n",
    "Regressão Linear        2628.22              10.55 seg"
   ]
  },
  {
   "cell_type": "markdown",
   "metadata": {},
   "source": [
    "# Checklist"
   ]
  },
  {
   "cell_type": "markdown",
   "metadata": {},
   "source": [
    "Digite 'x' para verificar. Em seguida, pressione Shift + Enter."
   ]
  },
  {
   "cell_type": "markdown",
   "metadata": {},
   "source": [
    "- [x]  O Jupyter Notebook está aberto\n",
    "- [x ]  O código está livre de erros\n",
    "- [x ]  As células com o código foram organizadas em ordem de execução\n",
    "- [ x]  Os dados foram baixados e preparados\n",
    "- [x ]  Os modelos foram treinados\n",
    "- [x ]  A análise de velocidade e qualidade dos modelos foi realizada"
   ]
  },
  {
   "cell_type": "code",
   "execution_count": null,
   "metadata": {},
   "outputs": [],
   "source": []
  }
 ],
 "metadata": {
  "ExecuteTimeLog": [
   {
    "duration": 2739,
    "start_time": "2025-02-10T14:28:44.574Z"
   },
   {
    "duration": 444,
    "start_time": "2025-02-10T14:29:46.131Z"
   },
   {
    "duration": 13,
    "start_time": "2025-02-10T14:30:09.215Z"
   },
   {
    "duration": 12,
    "start_time": "2025-02-10T14:30:14.962Z"
   },
   {
    "duration": 92,
    "start_time": "2025-02-10T14:31:26.074Z"
   },
   {
    "duration": 13,
    "start_time": "2025-02-10T14:39:03.544Z"
   },
   {
    "duration": 3,
    "start_time": "2025-02-10T15:09:11.461Z"
   },
   {
    "duration": 4,
    "start_time": "2025-02-10T15:10:00.859Z"
   },
   {
    "duration": 11,
    "start_time": "2025-02-10T15:10:11.270Z"
   },
   {
    "duration": 676,
    "start_time": "2025-02-10T15:11:54.765Z"
   },
   {
    "duration": 9,
    "start_time": "2025-02-10T15:12:25.500Z"
   },
   {
    "duration": 117,
    "start_time": "2025-02-10T15:15:23.968Z"
   },
   {
    "duration": 12,
    "start_time": "2025-02-10T15:15:37.069Z"
   },
   {
    "duration": 15,
    "start_time": "2025-02-10T15:38:51.296Z"
   },
   {
    "duration": 9,
    "start_time": "2025-02-10T15:39:09.309Z"
   },
   {
    "duration": 63,
    "start_time": "2025-02-10T15:39:21.592Z"
   },
   {
    "duration": 13,
    "start_time": "2025-02-10T15:45:22.351Z"
   },
   {
    "duration": 13,
    "start_time": "2025-02-10T15:48:53.062Z"
   },
   {
    "duration": 24,
    "start_time": "2025-02-10T15:53:22.953Z"
   },
   {
    "duration": 163,
    "start_time": "2025-02-10T16:10:04.716Z"
   },
   {
    "duration": 6,
    "start_time": "2025-02-10T16:13:08.703Z"
   },
   {
    "duration": 24,
    "start_time": "2025-02-10T16:15:10.190Z"
   },
   {
    "duration": 8,
    "start_time": "2025-02-10T16:19:04.625Z"
   },
   {
    "duration": 8,
    "start_time": "2025-02-10T16:22:19.436Z"
   },
   {
    "duration": 144,
    "start_time": "2025-02-10T16:25:49.689Z"
   },
   {
    "duration": 5,
    "start_time": "2025-02-10T16:27:18.454Z"
   },
   {
    "duration": 4,
    "start_time": "2025-02-10T16:28:13.179Z"
   },
   {
    "duration": 26,
    "start_time": "2025-02-10T16:43:00.758Z"
   },
   {
    "duration": 9,
    "start_time": "2025-02-10T16:53:46.532Z"
   },
   {
    "duration": 3,
    "start_time": "2025-02-10T16:58:33.814Z"
   },
   {
    "duration": 418,
    "start_time": "2025-02-10T16:58:33.822Z"
   },
   {
    "duration": 13,
    "start_time": "2025-02-10T16:58:34.243Z"
   },
   {
    "duration": 99,
    "start_time": "2025-02-10T16:58:34.257Z"
   },
   {
    "duration": 3,
    "start_time": "2025-02-10T16:58:34.358Z"
   },
   {
    "duration": 24,
    "start_time": "2025-02-10T16:58:34.364Z"
   },
   {
    "duration": 5,
    "start_time": "2025-02-10T16:58:34.389Z"
   },
   {
    "duration": 11,
    "start_time": "2025-02-10T16:58:34.396Z"
   },
   {
    "duration": 16,
    "start_time": "2025-02-10T16:58:34.409Z"
   },
   {
    "duration": 9,
    "start_time": "2025-02-10T16:58:34.427Z"
   },
   {
    "duration": 90,
    "start_time": "2025-02-10T16:58:34.438Z"
   },
   {
    "duration": 67,
    "start_time": "2025-02-10T16:58:34.530Z"
   },
   {
    "duration": 148,
    "start_time": "2025-02-10T16:58:34.598Z"
   },
   {
    "duration": 5,
    "start_time": "2025-02-10T16:58:34.748Z"
   },
   {
    "duration": 40,
    "start_time": "2025-02-10T16:58:34.757Z"
   },
   {
    "duration": 10,
    "start_time": "2025-02-10T16:58:34.799Z"
   },
   {
    "duration": 2526,
    "start_time": "2025-02-10T16:58:34.810Z"
   },
   {
    "duration": 8,
    "start_time": "2025-02-10T16:58:37.338Z"
   },
   {
    "duration": 6,
    "start_time": "2025-02-10T16:58:37.349Z"
   },
   {
    "duration": 163,
    "start_time": "2025-02-10T16:58:37.357Z"
   },
   {
    "duration": 20,
    "start_time": "2025-02-10T16:58:37.522Z"
   },
   {
    "duration": 2191,
    "start_time": "2025-02-10T17:03:06.143Z"
   },
   {
    "duration": 2173,
    "start_time": "2025-02-10T17:03:13.199Z"
   },
   {
    "duration": 4,
    "start_time": "2025-02-10T17:09:46.676Z"
   },
   {
    "duration": 28,
    "start_time": "2025-02-10T17:28:43.844Z"
   },
   {
    "duration": 27,
    "start_time": "2025-02-10T17:28:48.133Z"
   },
   {
    "duration": 26,
    "start_time": "2025-02-10T17:28:55.672Z"
   },
   {
    "duration": 20,
    "start_time": "2025-02-10T17:30:13.023Z"
   },
   {
    "duration": 78,
    "start_time": "2025-02-10T17:56:26.448Z"
   },
   {
    "duration": 283,
    "start_time": "2025-02-10T17:56:28.262Z"
   },
   {
    "duration": 128,
    "start_time": "2025-02-10T17:56:29.218Z"
   },
   {
    "duration": 101,
    "start_time": "2025-02-10T18:15:18.226Z"
   },
   {
    "duration": 272,
    "start_time": "2025-02-10T18:15:21.542Z"
   },
   {
    "duration": 125,
    "start_time": "2025-02-10T18:15:23.625Z"
   },
   {
    "duration": 17,
    "start_time": "2025-02-10T18:26:40.674Z"
   },
   {
    "duration": 35,
    "start_time": "2025-02-10T18:27:26.061Z"
   },
   {
    "duration": 208530,
    "start_time": "2025-02-10T18:27:33.804Z"
   },
   {
    "duration": 3,
    "start_time": "2025-02-10T18:34:41.262Z"
   },
   {
    "duration": 2629860,
    "start_time": "2025-02-10T18:35:51.397Z"
   },
   {
    "duration": 3,
    "start_time": "2025-02-10T19:19:41.264Z"
   },
   {
    "duration": 481679,
    "start_time": "2025-02-10T19:39:03.591Z"
   },
   {
    "duration": 24,
    "start_time": "2025-02-10T19:52:57.243Z"
   },
   {
    "duration": 566504,
    "start_time": "2025-02-10T19:55:42.674Z"
   },
   {
    "duration": 5910545,
    "start_time": "2025-02-10T20:17:17.626Z"
   },
   {
    "duration": 568405,
    "start_time": "2025-02-11T02:33:35.207Z"
   },
   {
    "duration": 25,
    "start_time": "2025-02-11T02:51:21.961Z"
   },
   {
    "duration": 384,
    "start_time": "2025-02-11T02:55:49.878Z"
   },
   {
    "duration": 4962,
    "start_time": "2025-02-11T03:00:43.949Z"
   },
   {
    "duration": 136,
    "start_time": "2025-02-11T03:08:39.761Z"
   },
   {
    "duration": 4,
    "start_time": "2025-02-11T03:09:01.736Z"
   },
   {
    "duration": 17,
    "start_time": "2025-02-11T03:09:11.372Z"
   },
   {
    "duration": 3,
    "start_time": "2025-02-11T03:12:13.088Z"
   },
   {
    "duration": 6694463,
    "start_time": "2025-02-11T03:12:22.924Z"
   },
   {
    "duration": 39596,
    "start_time": "2025-02-11T05:10:55.902Z"
   },
   {
    "duration": 2818,
    "start_time": "2025-02-11T14:03:33.352Z"
   },
   {
    "duration": 452,
    "start_time": "2025-02-11T14:03:36.172Z"
   },
   {
    "duration": 19,
    "start_time": "2025-02-11T14:03:36.626Z"
   },
   {
    "duration": 91,
    "start_time": "2025-02-11T14:03:40.541Z"
   },
   {
    "duration": 3,
    "start_time": "2025-02-11T14:03:43.217Z"
   },
   {
    "duration": 10,
    "start_time": "2025-02-11T14:03:43.794Z"
   },
   {
    "duration": 6,
    "start_time": "2025-02-11T14:03:49.912Z"
   },
   {
    "duration": 12,
    "start_time": "2025-02-11T14:03:52.952Z"
   },
   {
    "duration": 15,
    "start_time": "2025-02-11T14:03:56.693Z"
   },
   {
    "duration": 8,
    "start_time": "2025-02-11T14:03:57.048Z"
   },
   {
    "duration": 65,
    "start_time": "2025-02-11T14:03:58.097Z"
   },
   {
    "duration": 54,
    "start_time": "2025-02-11T14:04:02.071Z"
   },
   {
    "duration": 154,
    "start_time": "2025-02-11T14:04:12.867Z"
   },
   {
    "duration": 5,
    "start_time": "2025-02-11T14:04:17.705Z"
   },
   {
    "duration": 23,
    "start_time": "2025-02-11T14:04:22.438Z"
   },
   {
    "duration": 8,
    "start_time": "2025-02-11T14:04:24.937Z"
   },
   {
    "duration": 2468,
    "start_time": "2025-02-11T14:04:27.873Z"
   },
   {
    "duration": 4,
    "start_time": "2025-02-11T14:04:30.591Z"
   },
   {
    "duration": 29,
    "start_time": "2025-02-11T14:04:31.306Z"
   },
   {
    "duration": 7,
    "start_time": "2025-02-11T14:04:32.677Z"
   },
   {
    "duration": 7,
    "start_time": "2025-02-11T14:04:40.990Z"
   },
   {
    "duration": 146,
    "start_time": "2025-02-11T14:04:44.587Z"
   },
   {
    "duration": 23,
    "start_time": "2025-02-11T14:04:47.983Z"
   },
   {
    "duration": 78,
    "start_time": "2025-02-11T14:04:58.942Z"
   },
   {
    "duration": 293,
    "start_time": "2025-02-11T14:04:59.382Z"
   },
   {
    "duration": 127,
    "start_time": "2025-02-11T14:05:00.960Z"
   },
   {
    "duration": 3,
    "start_time": "2025-02-11T14:08:09.342Z"
   },
   {
    "duration": 10674,
    "start_time": "2025-02-11T14:09:11.571Z"
   },
   {
    "duration": 184374,
    "start_time": "2025-02-11T14:15:43.565Z"
   },
   {
    "duration": 10726,
    "start_time": "2025-02-11T14:24:05.508Z"
   }
  ],
  "kernelspec": {
   "display_name": "Python 3 (ipykernel)",
   "language": "python",
   "name": "python3"
  },
  "language_info": {
   "codemirror_mode": {
    "name": "ipython",
    "version": 3
   },
   "file_extension": ".py",
   "mimetype": "text/x-python",
   "name": "python",
   "nbconvert_exporter": "python",
   "pygments_lexer": "ipython3",
   "version": "3.9.19"
  },
  "toc": {
   "base_numbering": 1,
   "nav_menu": {},
   "number_sections": true,
   "sideBar": true,
   "skip_h1_title": true,
   "title_cell": "Table of Contents",
   "title_sidebar": "Contents",
   "toc_cell": false,
   "toc_position": {},
   "toc_section_display": true,
   "toc_window_display": false
  }
 },
 "nbformat": 4,
 "nbformat_minor": 2
}
